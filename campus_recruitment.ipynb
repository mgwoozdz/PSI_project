{
 "cells": [
  {
   "cell_type": "markdown",
   "metadata": {
    "collapsed": true
   },
   "source": [
    "# Campus Recruitment\n",
    "\n",
    "This dataset represents student's grades over the course of their education, as well as information about them getting (or not) a job after Univeristy.\n",
    "\n",
    "We will try to create models that will predict if a student, based on his education history, gets a job."
   ]
  },
  {
   "cell_type": "code",
   "execution_count": 1,
   "metadata": {},
   "outputs": [
    {
     "name": "stdout",
     "output_type": "stream",
     "text": [
      "(215, 15)\n"
     ]
    }
   ],
   "source": [
    "import warnings\n",
    "warnings.filterwarnings(\"ignore\")\n",
    "\n",
    "import pandas as pd\n",
    "\n",
    "df = pd.read_csv('data/Placement_Data_Full_Class.csv', sep=\",\")\n",
    "\n",
    "print(df.shape)"
   ]
  },
  {
   "cell_type": "code",
   "execution_count": 2,
   "metadata": {},
   "outputs": [
    {
     "data": {
      "text/html": [
       "<div>\n",
       "<style scoped>\n",
       "    .dataframe tbody tr th:only-of-type {\n",
       "        vertical-align: middle;\n",
       "    }\n",
       "\n",
       "    .dataframe tbody tr th {\n",
       "        vertical-align: top;\n",
       "    }\n",
       "\n",
       "    .dataframe thead th {\n",
       "        text-align: right;\n",
       "    }\n",
       "</style>\n",
       "<table border=\"1\" class=\"dataframe\">\n",
       "  <thead>\n",
       "    <tr style=\"text-align: right;\">\n",
       "      <th></th>\n",
       "      <th>sl_no</th>\n",
       "      <th>gender</th>\n",
       "      <th>ssc_p</th>\n",
       "      <th>ssc_b</th>\n",
       "      <th>hsc_p</th>\n",
       "      <th>hsc_b</th>\n",
       "      <th>hsc_s</th>\n",
       "      <th>degree_p</th>\n",
       "      <th>degree_t</th>\n",
       "      <th>workex</th>\n",
       "      <th>etest_p</th>\n",
       "      <th>specialisation</th>\n",
       "      <th>mba_p</th>\n",
       "      <th>status</th>\n",
       "      <th>salary</th>\n",
       "    </tr>\n",
       "  </thead>\n",
       "  <tbody>\n",
       "    <tr>\n",
       "      <th>0</th>\n",
       "      <td>1</td>\n",
       "      <td>M</td>\n",
       "      <td>67.00</td>\n",
       "      <td>Others</td>\n",
       "      <td>91.00</td>\n",
       "      <td>Others</td>\n",
       "      <td>Commerce</td>\n",
       "      <td>58.00</td>\n",
       "      <td>Sci&amp;Tech</td>\n",
       "      <td>No</td>\n",
       "      <td>55.0</td>\n",
       "      <td>Mkt&amp;HR</td>\n",
       "      <td>58.80</td>\n",
       "      <td>Placed</td>\n",
       "      <td>270000.0</td>\n",
       "    </tr>\n",
       "    <tr>\n",
       "      <th>1</th>\n",
       "      <td>2</td>\n",
       "      <td>M</td>\n",
       "      <td>79.33</td>\n",
       "      <td>Central</td>\n",
       "      <td>78.33</td>\n",
       "      <td>Others</td>\n",
       "      <td>Science</td>\n",
       "      <td>77.48</td>\n",
       "      <td>Sci&amp;Tech</td>\n",
       "      <td>Yes</td>\n",
       "      <td>86.5</td>\n",
       "      <td>Mkt&amp;Fin</td>\n",
       "      <td>66.28</td>\n",
       "      <td>Placed</td>\n",
       "      <td>200000.0</td>\n",
       "    </tr>\n",
       "    <tr>\n",
       "      <th>2</th>\n",
       "      <td>3</td>\n",
       "      <td>M</td>\n",
       "      <td>65.00</td>\n",
       "      <td>Central</td>\n",
       "      <td>68.00</td>\n",
       "      <td>Central</td>\n",
       "      <td>Arts</td>\n",
       "      <td>64.00</td>\n",
       "      <td>Comm&amp;Mgmt</td>\n",
       "      <td>No</td>\n",
       "      <td>75.0</td>\n",
       "      <td>Mkt&amp;Fin</td>\n",
       "      <td>57.80</td>\n",
       "      <td>Placed</td>\n",
       "      <td>250000.0</td>\n",
       "    </tr>\n",
       "    <tr>\n",
       "      <th>3</th>\n",
       "      <td>4</td>\n",
       "      <td>M</td>\n",
       "      <td>56.00</td>\n",
       "      <td>Central</td>\n",
       "      <td>52.00</td>\n",
       "      <td>Central</td>\n",
       "      <td>Science</td>\n",
       "      <td>52.00</td>\n",
       "      <td>Sci&amp;Tech</td>\n",
       "      <td>No</td>\n",
       "      <td>66.0</td>\n",
       "      <td>Mkt&amp;HR</td>\n",
       "      <td>59.43</td>\n",
       "      <td>Not Placed</td>\n",
       "      <td>NaN</td>\n",
       "    </tr>\n",
       "    <tr>\n",
       "      <th>4</th>\n",
       "      <td>5</td>\n",
       "      <td>M</td>\n",
       "      <td>85.80</td>\n",
       "      <td>Central</td>\n",
       "      <td>73.60</td>\n",
       "      <td>Central</td>\n",
       "      <td>Commerce</td>\n",
       "      <td>73.30</td>\n",
       "      <td>Comm&amp;Mgmt</td>\n",
       "      <td>No</td>\n",
       "      <td>96.8</td>\n",
       "      <td>Mkt&amp;Fin</td>\n",
       "      <td>55.50</td>\n",
       "      <td>Placed</td>\n",
       "      <td>425000.0</td>\n",
       "    </tr>\n",
       "  </tbody>\n",
       "</table>\n",
       "</div>"
      ],
      "text/plain": [
       "   sl_no gender  ssc_p    ssc_b  hsc_p    hsc_b     hsc_s  degree_p  \\\n",
       "0      1      M  67.00   Others  91.00   Others  Commerce     58.00   \n",
       "1      2      M  79.33  Central  78.33   Others   Science     77.48   \n",
       "2      3      M  65.00  Central  68.00  Central      Arts     64.00   \n",
       "3      4      M  56.00  Central  52.00  Central   Science     52.00   \n",
       "4      5      M  85.80  Central  73.60  Central  Commerce     73.30   \n",
       "\n",
       "    degree_t workex  etest_p specialisation  mba_p      status    salary  \n",
       "0   Sci&Tech     No     55.0         Mkt&HR  58.80      Placed  270000.0  \n",
       "1   Sci&Tech    Yes     86.5        Mkt&Fin  66.28      Placed  200000.0  \n",
       "2  Comm&Mgmt     No     75.0        Mkt&Fin  57.80      Placed  250000.0  \n",
       "3   Sci&Tech     No     66.0         Mkt&HR  59.43  Not Placed       NaN  \n",
       "4  Comm&Mgmt     No     96.8        Mkt&Fin  55.50      Placed  425000.0  "
      ]
     },
     "execution_count": 2,
     "metadata": {},
     "output_type": "execute_result"
    }
   ],
   "source": [
    "df.head()"
   ]
  },
  {
   "cell_type": "code",
   "execution_count": 3,
   "metadata": {},
   "outputs": [
    {
     "data": {
      "text/plain": [
       "Index(['sl_no', 'gender', 'ssc_p', 'ssc_b', 'hsc_p', 'hsc_b', 'hsc_s',\n",
       "       'degree_p', 'degree_t', 'workex', 'etest_p', 'specialisation', 'mba_p',\n",
       "       'status', 'salary'],\n",
       "      dtype='object')"
      ]
     },
     "execution_count": 3,
     "metadata": {},
     "output_type": "execute_result"
    }
   ],
   "source": [
    "df.columns"
   ]
  },
  {
   "cell_type": "markdown",
   "metadata": {},
   "source": [
    "# Columns Description\n",
    "\n",
    " from Kaggle dataset provider)\n",
    "\n",
    "**sl_no** - Serial Number\n",
    "\n",
    "**gender** - Gender- {Male='M',Female='F'}\n",
    "\n",
    "**ssc_p** - Secondary Education percentage- 10th Grade\n",
    "\n",
    "**ssc_b** - Board of Education\n",
    "\n",
    "**hsc_p** - Higher Secondary Education percentage- 12th Grade\n",
    "\n",
    "**hsc_s** - Specialization in Higher Secondary Education\n",
    "\n",
    "**degree_p** - Degree Percentage\n",
    "\n",
    "**degree_t** - Under Graduation(Degree type)- Field of degree education\n",
    "\n",
    "**workex** - Work Experience \n",
    "\n",
    "**etest_p** - Employability test percentage (conducted by college)\n",
    "\n",
    "**specialisation** - Post Graduation(MBA) Specialization\n",
    "\n",
    "**mba_p** - MBA percentage\n",
    "\n",
    "**status** - Status of placement- Placed/Not placed\n",
    "\n",
    "**salary** - Salary offered by corporate to candidates"
   ]
  },
  {
   "cell_type": "code",
   "execution_count": 4,
   "metadata": {},
   "outputs": [
    {
     "name": "stdout",
     "output_type": "stream",
     "text": [
      "<class 'pandas.core.frame.DataFrame'>\n",
      "RangeIndex: 215 entries, 0 to 214\n",
      "Data columns (total 15 columns):\n",
      " #   Column          Non-Null Count  Dtype  \n",
      "---  ------          --------------  -----  \n",
      " 0   sl_no           215 non-null    int64  \n",
      " 1   gender          215 non-null    object \n",
      " 2   ssc_p           215 non-null    float64\n",
      " 3   ssc_b           215 non-null    object \n",
      " 4   hsc_p           215 non-null    float64\n",
      " 5   hsc_b           215 non-null    object \n",
      " 6   hsc_s           215 non-null    object \n",
      " 7   degree_p        215 non-null    float64\n",
      " 8   degree_t        215 non-null    object \n",
      " 9   workex          215 non-null    object \n",
      " 10  etest_p         215 non-null    float64\n",
      " 11  specialisation  215 non-null    object \n",
      " 12  mba_p           215 non-null    float64\n",
      " 13  status          215 non-null    object \n",
      " 14  salary          148 non-null    float64\n",
      "dtypes: float64(6), int64(1), object(8)\n",
      "memory usage: 25.3+ KB\n"
     ]
    }
   ],
   "source": [
    "df.info()"
   ]
  },
  {
   "cell_type": "markdown",
   "metadata": {},
   "source": [
    "(215 - 148 = 67) osób nie dostało pracy - stąd brak wynagrodzenia"
   ]
  },
  {
   "cell_type": "code",
   "execution_count": 5,
   "metadata": {},
   "outputs": [
    {
     "data": {
      "text/html": [
       "<div>\n",
       "<style scoped>\n",
       "    .dataframe tbody tr th:only-of-type {\n",
       "        vertical-align: middle;\n",
       "    }\n",
       "\n",
       "    .dataframe tbody tr th {\n",
       "        vertical-align: top;\n",
       "    }\n",
       "\n",
       "    .dataframe thead th {\n",
       "        text-align: right;\n",
       "    }\n",
       "</style>\n",
       "<table border=\"1\" class=\"dataframe\">\n",
       "  <thead>\n",
       "    <tr style=\"text-align: right;\">\n",
       "      <th></th>\n",
       "      <th>sl_no</th>\n",
       "      <th>ssc_p</th>\n",
       "      <th>hsc_p</th>\n",
       "      <th>degree_p</th>\n",
       "      <th>etest_p</th>\n",
       "      <th>mba_p</th>\n",
       "      <th>salary</th>\n",
       "    </tr>\n",
       "  </thead>\n",
       "  <tbody>\n",
       "    <tr>\n",
       "      <th>count</th>\n",
       "      <td>215.000000</td>\n",
       "      <td>215.000000</td>\n",
       "      <td>215.000000</td>\n",
       "      <td>215.000000</td>\n",
       "      <td>215.000000</td>\n",
       "      <td>215.000000</td>\n",
       "      <td>148.000000</td>\n",
       "    </tr>\n",
       "    <tr>\n",
       "      <th>mean</th>\n",
       "      <td>108.000000</td>\n",
       "      <td>67.303395</td>\n",
       "      <td>66.333163</td>\n",
       "      <td>66.370186</td>\n",
       "      <td>72.100558</td>\n",
       "      <td>62.278186</td>\n",
       "      <td>288655.405405</td>\n",
       "    </tr>\n",
       "    <tr>\n",
       "      <th>std</th>\n",
       "      <td>62.209324</td>\n",
       "      <td>10.827205</td>\n",
       "      <td>10.897509</td>\n",
       "      <td>7.358743</td>\n",
       "      <td>13.275956</td>\n",
       "      <td>5.833385</td>\n",
       "      <td>93457.452420</td>\n",
       "    </tr>\n",
       "    <tr>\n",
       "      <th>min</th>\n",
       "      <td>1.000000</td>\n",
       "      <td>40.890000</td>\n",
       "      <td>37.000000</td>\n",
       "      <td>50.000000</td>\n",
       "      <td>50.000000</td>\n",
       "      <td>51.210000</td>\n",
       "      <td>200000.000000</td>\n",
       "    </tr>\n",
       "    <tr>\n",
       "      <th>25%</th>\n",
       "      <td>54.500000</td>\n",
       "      <td>60.600000</td>\n",
       "      <td>60.900000</td>\n",
       "      <td>61.000000</td>\n",
       "      <td>60.000000</td>\n",
       "      <td>57.945000</td>\n",
       "      <td>240000.000000</td>\n",
       "    </tr>\n",
       "    <tr>\n",
       "      <th>50%</th>\n",
       "      <td>108.000000</td>\n",
       "      <td>67.000000</td>\n",
       "      <td>65.000000</td>\n",
       "      <td>66.000000</td>\n",
       "      <td>71.000000</td>\n",
       "      <td>62.000000</td>\n",
       "      <td>265000.000000</td>\n",
       "    </tr>\n",
       "    <tr>\n",
       "      <th>75%</th>\n",
       "      <td>161.500000</td>\n",
       "      <td>75.700000</td>\n",
       "      <td>73.000000</td>\n",
       "      <td>72.000000</td>\n",
       "      <td>83.500000</td>\n",
       "      <td>66.255000</td>\n",
       "      <td>300000.000000</td>\n",
       "    </tr>\n",
       "    <tr>\n",
       "      <th>max</th>\n",
       "      <td>215.000000</td>\n",
       "      <td>89.400000</td>\n",
       "      <td>97.700000</td>\n",
       "      <td>91.000000</td>\n",
       "      <td>98.000000</td>\n",
       "      <td>77.890000</td>\n",
       "      <td>940000.000000</td>\n",
       "    </tr>\n",
       "  </tbody>\n",
       "</table>\n",
       "</div>"
      ],
      "text/plain": [
       "            sl_no       ssc_p       hsc_p    degree_p     etest_p       mba_p  \\\n",
       "count  215.000000  215.000000  215.000000  215.000000  215.000000  215.000000   \n",
       "mean   108.000000   67.303395   66.333163   66.370186   72.100558   62.278186   \n",
       "std     62.209324   10.827205   10.897509    7.358743   13.275956    5.833385   \n",
       "min      1.000000   40.890000   37.000000   50.000000   50.000000   51.210000   \n",
       "25%     54.500000   60.600000   60.900000   61.000000   60.000000   57.945000   \n",
       "50%    108.000000   67.000000   65.000000   66.000000   71.000000   62.000000   \n",
       "75%    161.500000   75.700000   73.000000   72.000000   83.500000   66.255000   \n",
       "max    215.000000   89.400000   97.700000   91.000000   98.000000   77.890000   \n",
       "\n",
       "              salary  \n",
       "count     148.000000  \n",
       "mean   288655.405405  \n",
       "std     93457.452420  \n",
       "min    200000.000000  \n",
       "25%    240000.000000  \n",
       "50%    265000.000000  \n",
       "75%    300000.000000  \n",
       "max    940000.000000  "
      ]
     },
     "execution_count": 5,
     "metadata": {},
     "output_type": "execute_result"
    }
   ],
   "source": [
    "df.describe()"
   ]
  },
  {
   "cell_type": "code",
   "execution_count": 6,
   "metadata": {},
   "outputs": [],
   "source": [
    "import pandas_profiling\n",
    "df.profile_report(title='Campus Placement Data - Report', progress_bar=False)"
   ]
  },
  {
   "cell_type": "markdown",
   "metadata": {},
   "source": [
    "# Preprocessing"
   ]
  },
  {
   "cell_type": "markdown",
   "metadata": {},
   "source": [
    "**sl_no** to unikalny indeks, nie będzie potrzebny.\n",
    "\n",
    "**salary** też nie będzie nam potrzebne - salary jest nullem tam, gdzie status jest \"Not Placed\"."
   ]
  },
  {
   "cell_type": "code",
   "execution_count": 7,
   "metadata": {},
   "outputs": [
    {
     "data": {
      "text/html": [
       "<div>\n",
       "<style scoped>\n",
       "    .dataframe tbody tr th:only-of-type {\n",
       "        vertical-align: middle;\n",
       "    }\n",
       "\n",
       "    .dataframe tbody tr th {\n",
       "        vertical-align: top;\n",
       "    }\n",
       "\n",
       "    .dataframe thead th {\n",
       "        text-align: right;\n",
       "    }\n",
       "</style>\n",
       "<table border=\"1\" class=\"dataframe\">\n",
       "  <thead>\n",
       "    <tr style=\"text-align: right;\">\n",
       "      <th></th>\n",
       "      <th>gender</th>\n",
       "      <th>ssc_p</th>\n",
       "      <th>ssc_b</th>\n",
       "      <th>hsc_p</th>\n",
       "      <th>hsc_b</th>\n",
       "      <th>hsc_s</th>\n",
       "      <th>degree_p</th>\n",
       "      <th>degree_t</th>\n",
       "      <th>workex</th>\n",
       "      <th>etest_p</th>\n",
       "      <th>specialisation</th>\n",
       "      <th>mba_p</th>\n",
       "      <th>status</th>\n",
       "    </tr>\n",
       "  </thead>\n",
       "  <tbody>\n",
       "    <tr>\n",
       "      <th>0</th>\n",
       "      <td>M</td>\n",
       "      <td>67.00</td>\n",
       "      <td>Others</td>\n",
       "      <td>91.00</td>\n",
       "      <td>Others</td>\n",
       "      <td>Commerce</td>\n",
       "      <td>58.00</td>\n",
       "      <td>Sci&amp;Tech</td>\n",
       "      <td>No</td>\n",
       "      <td>55.0</td>\n",
       "      <td>Mkt&amp;HR</td>\n",
       "      <td>58.80</td>\n",
       "      <td>Placed</td>\n",
       "    </tr>\n",
       "    <tr>\n",
       "      <th>1</th>\n",
       "      <td>M</td>\n",
       "      <td>79.33</td>\n",
       "      <td>Central</td>\n",
       "      <td>78.33</td>\n",
       "      <td>Others</td>\n",
       "      <td>Science</td>\n",
       "      <td>77.48</td>\n",
       "      <td>Sci&amp;Tech</td>\n",
       "      <td>Yes</td>\n",
       "      <td>86.5</td>\n",
       "      <td>Mkt&amp;Fin</td>\n",
       "      <td>66.28</td>\n",
       "      <td>Placed</td>\n",
       "    </tr>\n",
       "    <tr>\n",
       "      <th>2</th>\n",
       "      <td>M</td>\n",
       "      <td>65.00</td>\n",
       "      <td>Central</td>\n",
       "      <td>68.00</td>\n",
       "      <td>Central</td>\n",
       "      <td>Arts</td>\n",
       "      <td>64.00</td>\n",
       "      <td>Comm&amp;Mgmt</td>\n",
       "      <td>No</td>\n",
       "      <td>75.0</td>\n",
       "      <td>Mkt&amp;Fin</td>\n",
       "      <td>57.80</td>\n",
       "      <td>Placed</td>\n",
       "    </tr>\n",
       "    <tr>\n",
       "      <th>3</th>\n",
       "      <td>M</td>\n",
       "      <td>56.00</td>\n",
       "      <td>Central</td>\n",
       "      <td>52.00</td>\n",
       "      <td>Central</td>\n",
       "      <td>Science</td>\n",
       "      <td>52.00</td>\n",
       "      <td>Sci&amp;Tech</td>\n",
       "      <td>No</td>\n",
       "      <td>66.0</td>\n",
       "      <td>Mkt&amp;HR</td>\n",
       "      <td>59.43</td>\n",
       "      <td>Not Placed</td>\n",
       "    </tr>\n",
       "    <tr>\n",
       "      <th>4</th>\n",
       "      <td>M</td>\n",
       "      <td>85.80</td>\n",
       "      <td>Central</td>\n",
       "      <td>73.60</td>\n",
       "      <td>Central</td>\n",
       "      <td>Commerce</td>\n",
       "      <td>73.30</td>\n",
       "      <td>Comm&amp;Mgmt</td>\n",
       "      <td>No</td>\n",
       "      <td>96.8</td>\n",
       "      <td>Mkt&amp;Fin</td>\n",
       "      <td>55.50</td>\n",
       "      <td>Placed</td>\n",
       "    </tr>\n",
       "  </tbody>\n",
       "</table>\n",
       "</div>"
      ],
      "text/plain": [
       "  gender  ssc_p    ssc_b  hsc_p    hsc_b     hsc_s  degree_p   degree_t  \\\n",
       "0      M  67.00   Others  91.00   Others  Commerce     58.00   Sci&Tech   \n",
       "1      M  79.33  Central  78.33   Others   Science     77.48   Sci&Tech   \n",
       "2      M  65.00  Central  68.00  Central      Arts     64.00  Comm&Mgmt   \n",
       "3      M  56.00  Central  52.00  Central   Science     52.00   Sci&Tech   \n",
       "4      M  85.80  Central  73.60  Central  Commerce     73.30  Comm&Mgmt   \n",
       "\n",
       "  workex  etest_p specialisation  mba_p      status  \n",
       "0     No     55.0         Mkt&HR  58.80      Placed  \n",
       "1    Yes     86.5        Mkt&Fin  66.28      Placed  \n",
       "2     No     75.0        Mkt&Fin  57.80      Placed  \n",
       "3     No     66.0         Mkt&HR  59.43  Not Placed  \n",
       "4     No     96.8        Mkt&Fin  55.50      Placed  "
      ]
     },
     "execution_count": 7,
     "metadata": {},
     "output_type": "execute_result"
    }
   ],
   "source": [
    "df.drop(\"sl_no\", axis=1, inplace=True)\n",
    "df.drop(\"salary\", axis=1, inplace=True)\n",
    "df.head()"
   ]
  },
  {
   "cell_type": "code",
   "execution_count": 8,
   "metadata": {},
   "outputs": [],
   "source": [
    "data = df.copy()"
   ]
  },
  {
   "cell_type": "code",
   "execution_count": 9,
   "metadata": {},
   "outputs": [],
   "source": [
    "data['workex'].replace(to_replace=\"Yes\", value=1, inplace=True)\n",
    "data['workex'].replace(to_replace=\"No\", value=0, inplace=True)\n",
    "\n",
    "data['status'].replace(to_replace=\"Placed\", value=1, inplace=True)\n",
    "data['status'].replace(to_replace=\"Not Placed\", value=0, inplace=True)\n",
    "\n",
    "data['gender'].replace(to_replace=\"M\", value=1, inplace=True)\n",
    "data['gender'].replace(to_replace=\"F\", value=0, inplace=True)"
   ]
  },
  {
   "cell_type": "code",
   "execution_count": 10,
   "metadata": {
    "pycharm": {
     "name": "#%%\n"
    }
   },
   "outputs": [
    {
     "data": {
      "text/html": [
       "<div>\n",
       "<style scoped>\n",
       "    .dataframe tbody tr th:only-of-type {\n",
       "        vertical-align: middle;\n",
       "    }\n",
       "\n",
       "    .dataframe tbody tr th {\n",
       "        vertical-align: top;\n",
       "    }\n",
       "\n",
       "    .dataframe thead th {\n",
       "        text-align: right;\n",
       "    }\n",
       "</style>\n",
       "<table border=\"1\" class=\"dataframe\">\n",
       "  <thead>\n",
       "    <tr style=\"text-align: right;\">\n",
       "      <th></th>\n",
       "      <th>gender</th>\n",
       "      <th>ssc_p</th>\n",
       "      <th>ssc_b</th>\n",
       "      <th>hsc_p</th>\n",
       "      <th>hsc_b</th>\n",
       "      <th>hsc_s</th>\n",
       "      <th>degree_p</th>\n",
       "      <th>degree_t</th>\n",
       "      <th>workex</th>\n",
       "      <th>etest_p</th>\n",
       "      <th>specialisation</th>\n",
       "      <th>mba_p</th>\n",
       "      <th>status</th>\n",
       "    </tr>\n",
       "  </thead>\n",
       "  <tbody>\n",
       "    <tr>\n",
       "      <th>0</th>\n",
       "      <td>1</td>\n",
       "      <td>67.00</td>\n",
       "      <td>Others</td>\n",
       "      <td>91.00</td>\n",
       "      <td>Others</td>\n",
       "      <td>Commerce</td>\n",
       "      <td>58.00</td>\n",
       "      <td>Sci&amp;Tech</td>\n",
       "      <td>0</td>\n",
       "      <td>55.0</td>\n",
       "      <td>Mkt&amp;HR</td>\n",
       "      <td>58.80</td>\n",
       "      <td>1</td>\n",
       "    </tr>\n",
       "    <tr>\n",
       "      <th>1</th>\n",
       "      <td>1</td>\n",
       "      <td>79.33</td>\n",
       "      <td>Central</td>\n",
       "      <td>78.33</td>\n",
       "      <td>Others</td>\n",
       "      <td>Science</td>\n",
       "      <td>77.48</td>\n",
       "      <td>Sci&amp;Tech</td>\n",
       "      <td>1</td>\n",
       "      <td>86.5</td>\n",
       "      <td>Mkt&amp;Fin</td>\n",
       "      <td>66.28</td>\n",
       "      <td>1</td>\n",
       "    </tr>\n",
       "    <tr>\n",
       "      <th>2</th>\n",
       "      <td>1</td>\n",
       "      <td>65.00</td>\n",
       "      <td>Central</td>\n",
       "      <td>68.00</td>\n",
       "      <td>Central</td>\n",
       "      <td>Arts</td>\n",
       "      <td>64.00</td>\n",
       "      <td>Comm&amp;Mgmt</td>\n",
       "      <td>0</td>\n",
       "      <td>75.0</td>\n",
       "      <td>Mkt&amp;Fin</td>\n",
       "      <td>57.80</td>\n",
       "      <td>1</td>\n",
       "    </tr>\n",
       "    <tr>\n",
       "      <th>3</th>\n",
       "      <td>1</td>\n",
       "      <td>56.00</td>\n",
       "      <td>Central</td>\n",
       "      <td>52.00</td>\n",
       "      <td>Central</td>\n",
       "      <td>Science</td>\n",
       "      <td>52.00</td>\n",
       "      <td>Sci&amp;Tech</td>\n",
       "      <td>0</td>\n",
       "      <td>66.0</td>\n",
       "      <td>Mkt&amp;HR</td>\n",
       "      <td>59.43</td>\n",
       "      <td>0</td>\n",
       "    </tr>\n",
       "    <tr>\n",
       "      <th>4</th>\n",
       "      <td>1</td>\n",
       "      <td>85.80</td>\n",
       "      <td>Central</td>\n",
       "      <td>73.60</td>\n",
       "      <td>Central</td>\n",
       "      <td>Commerce</td>\n",
       "      <td>73.30</td>\n",
       "      <td>Comm&amp;Mgmt</td>\n",
       "      <td>0</td>\n",
       "      <td>96.8</td>\n",
       "      <td>Mkt&amp;Fin</td>\n",
       "      <td>55.50</td>\n",
       "      <td>1</td>\n",
       "    </tr>\n",
       "  </tbody>\n",
       "</table>\n",
       "</div>"
      ],
      "text/plain": [
       "   gender  ssc_p    ssc_b  hsc_p    hsc_b     hsc_s  degree_p   degree_t  \\\n",
       "0       1  67.00   Others  91.00   Others  Commerce     58.00   Sci&Tech   \n",
       "1       1  79.33  Central  78.33   Others   Science     77.48   Sci&Tech   \n",
       "2       1  65.00  Central  68.00  Central      Arts     64.00  Comm&Mgmt   \n",
       "3       1  56.00  Central  52.00  Central   Science     52.00   Sci&Tech   \n",
       "4       1  85.80  Central  73.60  Central  Commerce     73.30  Comm&Mgmt   \n",
       "\n",
       "   workex  etest_p specialisation  mba_p  status  \n",
       "0       0     55.0         Mkt&HR  58.80       1  \n",
       "1       1     86.5        Mkt&Fin  66.28       1  \n",
       "2       0     75.0        Mkt&Fin  57.80       1  \n",
       "3       0     66.0         Mkt&HR  59.43       0  \n",
       "4       0     96.8        Mkt&Fin  55.50       1  "
      ]
     },
     "execution_count": 10,
     "metadata": {},
     "output_type": "execute_result"
    }
   ],
   "source": [
    "data.head()"
   ]
  },
  {
   "cell_type": "code",
   "execution_count": 11,
   "metadata": {
    "pycharm": {
     "name": "#%%\n"
    }
   },
   "outputs": [
    {
     "data": {
      "text/html": [
       "<div>\n",
       "<style scoped>\n",
       "    .dataframe tbody tr th:only-of-type {\n",
       "        vertical-align: middle;\n",
       "    }\n",
       "\n",
       "    .dataframe tbody tr th {\n",
       "        vertical-align: top;\n",
       "    }\n",
       "\n",
       "    .dataframe thead th {\n",
       "        text-align: right;\n",
       "    }\n",
       "</style>\n",
       "<table border=\"1\" class=\"dataframe\">\n",
       "  <thead>\n",
       "    <tr style=\"text-align: right;\">\n",
       "      <th></th>\n",
       "      <th>gender</th>\n",
       "      <th>ssc_p</th>\n",
       "      <th>ssc_b</th>\n",
       "      <th>hsc_p</th>\n",
       "      <th>hsc_b</th>\n",
       "      <th>hsc_s</th>\n",
       "      <th>degree_p</th>\n",
       "      <th>degree_t</th>\n",
       "      <th>workex</th>\n",
       "      <th>etest_p</th>\n",
       "      <th>specialisation</th>\n",
       "      <th>mba_p</th>\n",
       "      <th>status</th>\n",
       "    </tr>\n",
       "  </thead>\n",
       "  <tbody>\n",
       "    <tr>\n",
       "      <th>0</th>\n",
       "      <td>1</td>\n",
       "      <td>67.00</td>\n",
       "      <td>1</td>\n",
       "      <td>91.00</td>\n",
       "      <td>1</td>\n",
       "      <td>1</td>\n",
       "      <td>58.00</td>\n",
       "      <td>2</td>\n",
       "      <td>0</td>\n",
       "      <td>55.0</td>\n",
       "      <td>1</td>\n",
       "      <td>58.80</td>\n",
       "      <td>1</td>\n",
       "    </tr>\n",
       "    <tr>\n",
       "      <th>1</th>\n",
       "      <td>1</td>\n",
       "      <td>79.33</td>\n",
       "      <td>0</td>\n",
       "      <td>78.33</td>\n",
       "      <td>1</td>\n",
       "      <td>2</td>\n",
       "      <td>77.48</td>\n",
       "      <td>2</td>\n",
       "      <td>1</td>\n",
       "      <td>86.5</td>\n",
       "      <td>0</td>\n",
       "      <td>66.28</td>\n",
       "      <td>1</td>\n",
       "    </tr>\n",
       "    <tr>\n",
       "      <th>2</th>\n",
       "      <td>1</td>\n",
       "      <td>65.00</td>\n",
       "      <td>0</td>\n",
       "      <td>68.00</td>\n",
       "      <td>0</td>\n",
       "      <td>0</td>\n",
       "      <td>64.00</td>\n",
       "      <td>0</td>\n",
       "      <td>0</td>\n",
       "      <td>75.0</td>\n",
       "      <td>0</td>\n",
       "      <td>57.80</td>\n",
       "      <td>1</td>\n",
       "    </tr>\n",
       "    <tr>\n",
       "      <th>3</th>\n",
       "      <td>1</td>\n",
       "      <td>56.00</td>\n",
       "      <td>0</td>\n",
       "      <td>52.00</td>\n",
       "      <td>0</td>\n",
       "      <td>2</td>\n",
       "      <td>52.00</td>\n",
       "      <td>2</td>\n",
       "      <td>0</td>\n",
       "      <td>66.0</td>\n",
       "      <td>1</td>\n",
       "      <td>59.43</td>\n",
       "      <td>0</td>\n",
       "    </tr>\n",
       "    <tr>\n",
       "      <th>4</th>\n",
       "      <td>1</td>\n",
       "      <td>85.80</td>\n",
       "      <td>0</td>\n",
       "      <td>73.60</td>\n",
       "      <td>0</td>\n",
       "      <td>1</td>\n",
       "      <td>73.30</td>\n",
       "      <td>0</td>\n",
       "      <td>0</td>\n",
       "      <td>96.8</td>\n",
       "      <td>0</td>\n",
       "      <td>55.50</td>\n",
       "      <td>1</td>\n",
       "    </tr>\n",
       "  </tbody>\n",
       "</table>\n",
       "</div>"
      ],
      "text/plain": [
       "   gender  ssc_p  ssc_b  hsc_p  hsc_b  hsc_s  degree_p  degree_t  workex  \\\n",
       "0       1  67.00      1  91.00      1      1     58.00         2       0   \n",
       "1       1  79.33      0  78.33      1      2     77.48         2       1   \n",
       "2       1  65.00      0  68.00      0      0     64.00         0       0   \n",
       "3       1  56.00      0  52.00      0      2     52.00         2       0   \n",
       "4       1  85.80      0  73.60      0      1     73.30         0       0   \n",
       "\n",
       "   etest_p  specialisation  mba_p  status  \n",
       "0     55.0               1  58.80       1  \n",
       "1     86.5               0  66.28       1  \n",
       "2     75.0               0  57.80       1  \n",
       "3     66.0               1  59.43       0  \n",
       "4     96.8               0  55.50       1  "
      ]
     },
     "execution_count": 11,
     "metadata": {},
     "output_type": "execute_result"
    }
   ],
   "source": [
    "from sklearn.preprocessing import LabelEncoder\n",
    "\n",
    "le = LabelEncoder()\n",
    "\n",
    "data['ssc_b']= le.fit_transform(data['ssc_b'])\n",
    "data['hsc_b']= le.fit_transform(data['hsc_b'])\n",
    "data['hsc_s']= le.fit_transform(data['hsc_s'])\n",
    "data['degree_t']= le.fit_transform(data['degree_t'])\n",
    "data['specialisation']= le.fit_transform(data['specialisation'])\n",
    "\n",
    "data.head()"
   ]
  },
  {
   "cell_type": "markdown",
   "metadata": {},
   "source": [
    "OneHot Encoding:"
   ]
  },
  {
   "cell_type": "code",
   "execution_count": 12,
   "metadata": {},
   "outputs": [
    {
     "data": {
      "text/html": [
       "<div>\n",
       "<style scoped>\n",
       "    .dataframe tbody tr th:only-of-type {\n",
       "        vertical-align: middle;\n",
       "    }\n",
       "\n",
       "    .dataframe tbody tr th {\n",
       "        vertical-align: top;\n",
       "    }\n",
       "\n",
       "    .dataframe thead th {\n",
       "        text-align: right;\n",
       "    }\n",
       "</style>\n",
       "<table border=\"1\" class=\"dataframe\">\n",
       "  <thead>\n",
       "    <tr style=\"text-align: right;\">\n",
       "      <th></th>\n",
       "      <th>gender</th>\n",
       "      <th>ssc_p</th>\n",
       "      <th>ssc_b</th>\n",
       "      <th>hsc_p</th>\n",
       "      <th>hsc_b</th>\n",
       "      <th>degree_p</th>\n",
       "      <th>workex</th>\n",
       "      <th>etest_p</th>\n",
       "      <th>specialisation</th>\n",
       "      <th>mba_p</th>\n",
       "      <th>status</th>\n",
       "      <th>hsc_s_encoded_0</th>\n",
       "      <th>hsc_s_encoded_1</th>\n",
       "      <th>hsc_s_encoded_2</th>\n",
       "      <th>degree_t_encoded_0</th>\n",
       "      <th>degree_t_encoded_1</th>\n",
       "      <th>degree_t_encoded_2</th>\n",
       "    </tr>\n",
       "  </thead>\n",
       "  <tbody>\n",
       "    <tr>\n",
       "      <th>0</th>\n",
       "      <td>1</td>\n",
       "      <td>67.00</td>\n",
       "      <td>1</td>\n",
       "      <td>91.00</td>\n",
       "      <td>1</td>\n",
       "      <td>58.00</td>\n",
       "      <td>0</td>\n",
       "      <td>55.0</td>\n",
       "      <td>1</td>\n",
       "      <td>58.80</td>\n",
       "      <td>1</td>\n",
       "      <td>0</td>\n",
       "      <td>1</td>\n",
       "      <td>0</td>\n",
       "      <td>0</td>\n",
       "      <td>0</td>\n",
       "      <td>1</td>\n",
       "    </tr>\n",
       "    <tr>\n",
       "      <th>1</th>\n",
       "      <td>1</td>\n",
       "      <td>79.33</td>\n",
       "      <td>0</td>\n",
       "      <td>78.33</td>\n",
       "      <td>1</td>\n",
       "      <td>77.48</td>\n",
       "      <td>1</td>\n",
       "      <td>86.5</td>\n",
       "      <td>0</td>\n",
       "      <td>66.28</td>\n",
       "      <td>1</td>\n",
       "      <td>0</td>\n",
       "      <td>0</td>\n",
       "      <td>1</td>\n",
       "      <td>0</td>\n",
       "      <td>0</td>\n",
       "      <td>1</td>\n",
       "    </tr>\n",
       "    <tr>\n",
       "      <th>2</th>\n",
       "      <td>1</td>\n",
       "      <td>65.00</td>\n",
       "      <td>0</td>\n",
       "      <td>68.00</td>\n",
       "      <td>0</td>\n",
       "      <td>64.00</td>\n",
       "      <td>0</td>\n",
       "      <td>75.0</td>\n",
       "      <td>0</td>\n",
       "      <td>57.80</td>\n",
       "      <td>1</td>\n",
       "      <td>1</td>\n",
       "      <td>0</td>\n",
       "      <td>0</td>\n",
       "      <td>1</td>\n",
       "      <td>0</td>\n",
       "      <td>0</td>\n",
       "    </tr>\n",
       "    <tr>\n",
       "      <th>3</th>\n",
       "      <td>1</td>\n",
       "      <td>56.00</td>\n",
       "      <td>0</td>\n",
       "      <td>52.00</td>\n",
       "      <td>0</td>\n",
       "      <td>52.00</td>\n",
       "      <td>0</td>\n",
       "      <td>66.0</td>\n",
       "      <td>1</td>\n",
       "      <td>59.43</td>\n",
       "      <td>0</td>\n",
       "      <td>0</td>\n",
       "      <td>0</td>\n",
       "      <td>1</td>\n",
       "      <td>0</td>\n",
       "      <td>0</td>\n",
       "      <td>1</td>\n",
       "    </tr>\n",
       "    <tr>\n",
       "      <th>4</th>\n",
       "      <td>1</td>\n",
       "      <td>85.80</td>\n",
       "      <td>0</td>\n",
       "      <td>73.60</td>\n",
       "      <td>0</td>\n",
       "      <td>73.30</td>\n",
       "      <td>0</td>\n",
       "      <td>96.8</td>\n",
       "      <td>0</td>\n",
       "      <td>55.50</td>\n",
       "      <td>1</td>\n",
       "      <td>0</td>\n",
       "      <td>1</td>\n",
       "      <td>0</td>\n",
       "      <td>1</td>\n",
       "      <td>0</td>\n",
       "      <td>0</td>\n",
       "    </tr>\n",
       "  </tbody>\n",
       "</table>\n",
       "</div>"
      ],
      "text/plain": [
       "   gender  ssc_p  ssc_b  hsc_p  hsc_b  degree_p  workex  etest_p  \\\n",
       "0       1  67.00      1  91.00      1     58.00       0     55.0   \n",
       "1       1  79.33      0  78.33      1     77.48       1     86.5   \n",
       "2       1  65.00      0  68.00      0     64.00       0     75.0   \n",
       "3       1  56.00      0  52.00      0     52.00       0     66.0   \n",
       "4       1  85.80      0  73.60      0     73.30       0     96.8   \n",
       "\n",
       "   specialisation  mba_p  status  hsc_s_encoded_0  hsc_s_encoded_1  \\\n",
       "0               1  58.80       1                0                1   \n",
       "1               0  66.28       1                0                0   \n",
       "2               0  57.80       1                1                0   \n",
       "3               1  59.43       0                0                0   \n",
       "4               0  55.50       1                0                1   \n",
       "\n",
       "   hsc_s_encoded_2  degree_t_encoded_0  degree_t_encoded_1  degree_t_encoded_2  \n",
       "0                0                   0                   0                   1  \n",
       "1                1                   0                   0                   1  \n",
       "2                0                   1                   0                   0  \n",
       "3                1                   0                   0                   1  \n",
       "4                0                   1                   0                   0  "
      ]
     },
     "execution_count": 12,
     "metadata": {},
     "output_type": "execute_result"
    }
   ],
   "source": [
    "\n",
    "one_hot = ['hsc_s', 'degree_t']\n",
    "\n",
    "for i in range(0, len(one_hot)):\n",
    "    data[f'{one_hot[i]}'] = pd.Categorical(data[f'{one_hot[i]}'])\n",
    "    dummies = pd.get_dummies(data[f'{one_hot[i]}'], prefix = f'{one_hot[i]}_encoded')\n",
    "    data.drop([f'{one_hot[i]}'], axis=1, inplace=True)\n",
    "    data = pd.concat([data, dummies], axis=1)\n",
    "    \n",
    "data.head()"
   ]
  },
  {
   "cell_type": "code",
   "execution_count": 13,
   "metadata": {},
   "outputs": [
    {
     "data": {
      "text/plain": [
       "0.6883720930232559"
      ]
     },
     "execution_count": 13,
     "metadata": {},
     "output_type": "execute_result"
    }
   ],
   "source": [
    "data[\"status\"].sum() / data.shape[0]\n",
    "# zatrudnionych jest prawie 3/4 wszystkich badanych,\n",
    "# więc naiwnie policzone accuracy rzędu 68 można by uzyskać przez zawsze odpowiadanie \"zatrudniony\""
   ]
  },
  {
   "cell_type": "code",
   "execution_count": 14,
   "metadata": {},
   "outputs": [],
   "source": [
    "# from sklearn.preprocessing import StandardScaler\n",
    "# scaling=[\"ssc_p\",\"hsc_p\",\"degree_p\",\"etest_p\",\"mba_p\"]\n",
    "# sc = StandardScaler()\n",
    "# scaled=sc.fit_transform(data[['ssc_p', 'hsc_p', 'degree_p', 'etest_p', 'mba_p']])\n",
    "# scaled = pd.DataFrame(scaled,columns=scaling)\n",
    "# data=data.drop(columns=scaling,axis=1)\n",
    "# data=scaled.merge(data, left_index=True, right_index=True)\n",
    "\n",
    "# data.head()"
   ]
  },
  {
   "cell_type": "markdown",
   "metadata": {},
   "source": [
    "# Metody bez sieci neuronowych"
   ]
  },
  {
   "cell_type": "code",
   "execution_count": 15,
   "metadata": {},
   "outputs": [],
   "source": [
    "from sklearn.metrics import balanced_accuracy_score, accuracy_score, f1_score, confusion_matrix\n",
    "\n",
    "def summarize_model(model):\n",
    "    y_pred = model.predict(X_test)\n",
    "    print(confusion_matrix(y_test, y_pred))\n",
    "    print(\"Accuracy: \", accuracy_score(y_test, y_pred))\n",
    "    print(\"Bal. acc: \", balanced_accuracy_score(y_test, y_pred))\n",
    "    print(\"f1 score: \", f1_score(y_test, y_pred))"
   ]
  },
  {
   "cell_type": "code",
   "execution_count": 16,
   "metadata": {},
   "outputs": [],
   "source": [
    "from sklearn import model_selection\n",
    "from sklearn.model_selection import StratifiedKFold\n",
    "\n",
    "X = data.drop('status', axis=1)\n",
    "Y = data.status\n",
    "\n",
    "X_train, X_test, y_train, y_test = model_selection.train_test_split(X, Y, test_size=0.2)\n",
    "\n",
    "#dane są niezrównoważone, więc zamiast KFold -> StratifiedKFold\n",
    "kfold = StratifiedKFold(n_splits=5)"
   ]
  },
  {
   "cell_type": "markdown",
   "metadata": {},
   "source": [
    "## Decision Trees"
   ]
  },
  {
   "cell_type": "markdown",
   "metadata": {},
   "source": [
    "Podstawowa wersja:"
   ]
  },
  {
   "cell_type": "code",
   "execution_count": 17,
   "metadata": {},
   "outputs": [
    {
     "name": "stdout",
     "output_type": "stream",
     "text": [
      "[[ 9  2]\n",
      " [ 7 25]]\n",
      "Accuracy:  0.7906976744186046\n",
      "Bal. acc:  0.7997159090909092\n",
      "f1 score:  0.847457627118644\n"
     ]
    }
   ],
   "source": [
    "from sklearn.tree import DecisionTreeClassifier\n",
    "\n",
    "dtree = DecisionTreeClassifier(criterion='entropy')\n",
    "dtree.fit(X_train, y_train)\n",
    "# y_pred = dtree.predict(X_test)\n",
    "\n",
    "# print(confusion_matrix(y_test, y_pred))\n",
    "# print(accuracy_score(y_test, y_pred))\n",
    "# print(f1_score(y_test, y_pred))\n",
    "\n",
    "summarize_model(dtree)"
   ]
  },
  {
   "cell_type": "markdown",
   "metadata": {},
   "source": [
    "Spróbujmy dobrać optymalniejsze parametry:\n"
   ]
  },
  {
   "cell_type": "code",
   "execution_count": 18,
   "metadata": {},
   "outputs": [],
   "source": [
    "from sklearn.model_selection import GridSearchCV\n",
    "from imblearn.pipeline import Pipeline\n",
    "from sklearn.preprocessing import StandardScaler\n",
    "from imblearn.over_sampling import SMOTE\n",
    "from imblearn.over_sampling import RandomOverSampler "
   ]
  },
  {
   "cell_type": "code",
   "execution_count": 19,
   "metadata": {},
   "outputs": [
    {
     "name": "stdout",
     "output_type": "stream",
     "text": [
      "Fitting 5 folds for each of 1092 candidates, totalling 5460 fits\n"
     ]
    },
    {
     "data": {
      "text/plain": [
       "GridSearchCV(cv=StratifiedKFold(n_splits=5, random_state=None, shuffle=False),\n",
       "             estimator=Pipeline(steps=[('preprocessing', None),\n",
       "                                       ('over', RandomOverSampler()),\n",
       "                                       ('classifier',\n",
       "                                        DecisionTreeClassifier(criterion='entropy'))]),\n",
       "             n_jobs=-1,\n",
       "             param_grid={'classifier__criterion': ['entropy', 'gini'],\n",
       "                         'classifier__max_depth': [2, 3, 4, 5, 6, 7, 8, 9, 10,\n",
       "                                                   11, 12, 13, 14],\n",
       "                         'classifier__max_leaf_nodes': [1, 2, 3, 4, 5, 10, 15],\n",
       "                         'over': [RandomOverSampler(), SMOTE(), None],\n",
       "                         'preprocessing': [StandardScaler(), None]},\n",
       "             scoring='balanced_accuracy', verbose=1)"
      ]
     },
     "execution_count": 19,
     "metadata": {},
     "output_type": "execute_result"
    }
   ],
   "source": [
    "pipe = Pipeline([('preprocessing', None), ('over', RandomOverSampler()), ('classifier', DecisionTreeClassifier(criterion='entropy'))])\n",
    "\n",
    "param_grid = {\n",
    "    'preprocessing': [StandardScaler(), None],\n",
    "    'over': [RandomOverSampler(), SMOTE(), None],\n",
    "    'classifier__criterion': ['entropy', 'gini'],\n",
    "    'classifier__max_leaf_nodes': [3, 4, 5, 7, 10, 12, 15],\n",
    "    'classifier__max_depth': list(range(2, 30))\n",
    "}\n",
    "\n",
    "grid_search_cv_dtree = GridSearchCV(pipe, param_grid, verbose=1, cv=kfold, n_jobs=-1, scoring='balanced_accuracy')\n",
    "grid_search_cv_dtree.fit(X_train, y_train)"
   ]
  },
  {
   "cell_type": "code",
   "execution_count": 20,
   "metadata": {},
   "outputs": [
    {
     "name": "stdout",
     "output_type": "stream",
     "text": [
      "Pipeline(steps=[('preprocessing', StandardScaler()),\n",
      "                ('over', RandomOverSampler()),\n",
      "                ('classifier',\n",
      "                 DecisionTreeClassifier(criterion='entropy', max_depth=13,\n",
      "                                        max_leaf_nodes=10))])\n"
     ]
    }
   ],
   "source": [
    "print(grid_search_cv_dtree.best_estimator_)"
   ]
  },
  {
   "cell_type": "code",
   "execution_count": 21,
   "metadata": {
    "scrolled": true
   },
   "outputs": [
    {
     "name": "stdout",
     "output_type": "stream",
     "text": [
      "[[ 6  5]\n",
      " [ 4 28]]\n",
      "Accuracy:  0.7906976744186046\n",
      "Bal. acc:  0.7102272727272727\n",
      "f1 score:  0.8615384615384615\n"
     ]
    }
   ],
   "source": [
    "summarize_model(grid_search_cv_dtree)"
   ]
  },
  {
   "cell_type": "markdown",
   "metadata": {},
   "source": [
    "## Random Forest"
   ]
  },
  {
   "cell_type": "code",
   "execution_count": 22,
   "metadata": {},
   "outputs": [
    {
     "name": "stdout",
     "output_type": "stream",
     "text": [
      "[[ 8  3]\n",
      " [ 4 28]]\n",
      "Accuracy:  0.8372093023255814\n",
      "Bal. acc:  0.8011363636363636\n",
      "f1 score:  0.8888888888888888\n"
     ]
    }
   ],
   "source": [
    "from sklearn.ensemble import RandomForestClassifier\n",
    "\n",
    "rf = RandomForestClassifier()\n",
    "rf.fit(X_train, y_train)\n",
    "\n",
    "summarize_model(rf)"
   ]
  },
  {
   "cell_type": "code",
   "execution_count": 23,
   "metadata": {},
   "outputs": [
    {
     "data": {
      "text/plain": [
       "dict_keys(['bootstrap', 'ccp_alpha', 'class_weight', 'criterion', 'max_depth', 'max_features', 'max_leaf_nodes', 'max_samples', 'min_impurity_decrease', 'min_impurity_split', 'min_samples_leaf', 'min_samples_split', 'min_weight_fraction_leaf', 'n_estimators', 'n_jobs', 'oob_score', 'random_state', 'verbose', 'warm_start'])"
      ]
     },
     "execution_count": 23,
     "metadata": {},
     "output_type": "execute_result"
    }
   ],
   "source": [
    "RandomForestClassifier().get_params().keys()"
   ]
  },
  {
   "cell_type": "code",
   "execution_count": 24,
   "metadata": {},
   "outputs": [
    {
     "name": "stdout",
     "output_type": "stream",
     "text": [
      "Fitting 5 folds for each of 120 candidates, totalling 600 fits\n"
     ]
    },
    {
     "data": {
      "text/plain": [
       "GridSearchCV(cv=StratifiedKFold(n_splits=5, random_state=None, shuffle=False),\n",
       "             estimator=Pipeline(steps=[('preprocessing', None), ('over', None),\n",
       "                                       ('classifier',\n",
       "                                        RandomForestClassifier(n_jobs=-1))]),\n",
       "             n_jobs=-1,\n",
       "             param_grid={'classifier__max_leaf_nodes': [32, 64, 72, 128],\n",
       "                         'classifier__n_estimators': [100, 200, 300, 400, 500],\n",
       "                         'over': [RandomOverSampler(), SMOTE(), None],\n",
       "                         'preprocessing': [StandardScaler(), None]},\n",
       "             scoring='balanced_accuracy', verbose=1)"
      ]
     },
     "execution_count": 24,
     "metadata": {},
     "output_type": "execute_result"
    }
   ],
   "source": [
    "pipe = Pipeline([('preprocessing', None), ('over', None), ('classifier', RandomForestClassifier(n_jobs=-1))])\n",
    "\n",
    "param_grid_rfc = {\n",
    "    'preprocessing': [StandardScaler(), None],\n",
    "    'over': [RandomOverSampler(), SMOTE(), None],\n",
    "    'classifier__n_estimators': [100, 200, 300, 400, 500],\n",
    "    'classifier__max_leaf_nodes': [32, 64, 72, 128]\n",
    "}\n",
    "\n",
    "grid_search_cv_rfc = GridSearchCV(pipe, param_grid_rfc, cv=kfold, verbose=1, n_jobs=-1, scoring='balanced_accuracy')\n",
    "grid_search_cv_rfc.fit(X_train, y_train)"
   ]
  },
  {
   "cell_type": "code",
   "execution_count": 25,
   "metadata": {},
   "outputs": [
    {
     "name": "stdout",
     "output_type": "stream",
     "text": [
      "Pipeline(steps=[('preprocessing', StandardScaler()), ('over', SMOTE()),\n",
      "                ('classifier',\n",
      "                 RandomForestClassifier(max_leaf_nodes=64, n_estimators=400,\n",
      "                                        n_jobs=-1))])\n"
     ]
    }
   ],
   "source": [
    "print(grid_search_cv_rfc.best_estimator_)"
   ]
  },
  {
   "cell_type": "code",
   "execution_count": 26,
   "metadata": {},
   "outputs": [
    {
     "name": "stdout",
     "output_type": "stream",
     "text": [
      "[[ 9  2]\n",
      " [ 4 28]]\n",
      "Accuracy:  0.8604651162790697\n",
      "Bal. acc:  0.8465909090909092\n",
      "f1 score:  0.9032258064516129\n"
     ]
    }
   ],
   "source": [
    "summarize_model(grid_search_cv_rfc)"
   ]
  },
  {
   "cell_type": "markdown",
   "metadata": {},
   "source": [
    "## SVM"
   ]
  },
  {
   "cell_type": "code",
   "execution_count": 27,
   "metadata": {},
   "outputs": [
    {
     "name": "stdout",
     "output_type": "stream",
     "text": [
      "[[ 5  6]\n",
      " [ 2 30]]\n",
      "Accuracy:  0.813953488372093\n",
      "Bal. acc:  0.6960227272727273\n",
      "f1 score:  0.8823529411764706\n"
     ]
    }
   ],
   "source": [
    "from sklearn.svm import SVC\n",
    "\n",
    "svc = SVC()\n",
    "\n",
    "svc.fit(X_train, y_train)\n",
    "\n",
    "summarize_model(svc)"
   ]
  },
  {
   "cell_type": "code",
   "execution_count": 28,
   "metadata": {},
   "outputs": [
    {
     "data": {
      "text/plain": [
       "dict_keys(['C', 'break_ties', 'cache_size', 'class_weight', 'coef0', 'decision_function_shape', 'degree', 'gamma', 'kernel', 'max_iter', 'probability', 'random_state', 'shrinking', 'tol', 'verbose'])"
      ]
     },
     "execution_count": 28,
     "metadata": {},
     "output_type": "execute_result"
    }
   ],
   "source": [
    "SVC().get_params().keys()"
   ]
  },
  {
   "cell_type": "code",
   "execution_count": 29,
   "metadata": {},
   "outputs": [
    {
     "name": "stdout",
     "output_type": "stream",
     "text": [
      "Fitting 5 folds for each of 504 candidates, totalling 2520 fits\n"
     ]
    },
    {
     "data": {
      "text/plain": [
       "GridSearchCV(cv=StratifiedKFold(n_splits=5, random_state=None, shuffle=False),\n",
       "             estimator=Pipeline(steps=[('preprocessing', None), ('over', None),\n",
       "                                       ('classifier', SVC())]),\n",
       "             n_jobs=-1,\n",
       "             param_grid={'classifier__C': [0.1, 1, 7, 8, 9, 10, 11, 12, 13, 14,\n",
       "                                           20, 30],\n",
       "                         'classifier__gamma': [0.004, 0.0045, 0.005, 0.0055,\n",
       "                                               0.006, 0.007, 0.01],\n",
       "                         'over': [RandomOverSampler(), SMOTE(), None],\n",
       "                         'preprocessing': [StandardScaler(), None]},\n",
       "             scoring='balanced_accuracy', verbose=1)"
      ]
     },
     "execution_count": 29,
     "metadata": {},
     "output_type": "execute_result"
    }
   ],
   "source": [
    "pipe = Pipeline([('preprocessing', None), ('over', None), ('classifier', SVC())])\n",
    "\n",
    "param_grid_svc = {\n",
    "    'preprocessing': [StandardScaler(), None],\n",
    "    'over': [RandomOverSampler(), SMOTE(), None],\n",
    "    'classifier__C': [0.1, 1, 7, 8, 9, 10, 11, 12, 13, 14, 20, 30],\n",
    "    'classifier__gamma': [0.004, 0.0045, 0.005, 0.0055, 0.006, 0.007, 0.01]\n",
    "}\n",
    "\n",
    "grid_search_cv_svc = GridSearchCV(pipe, param_grid_svc, cv=kfold, verbose=1, n_jobs=-1, scoring='balanced_accuracy')\n",
    "grid_search_cv_svc.fit(X_train, y_train)"
   ]
  },
  {
   "cell_type": "code",
   "execution_count": 30,
   "metadata": {},
   "outputs": [
    {
     "name": "stdout",
     "output_type": "stream",
     "text": [
      "Pipeline(steps=[('preprocessing', StandardScaler()),\n",
      "                ('over', RandomOverSampler()),\n",
      "                ('classifier', SVC(C=20, gamma=0.004))])\n"
     ]
    }
   ],
   "source": [
    "print(grid_search_cv_svc.best_estimator_)"
   ]
  },
  {
   "cell_type": "code",
   "execution_count": 31,
   "metadata": {},
   "outputs": [
    {
     "name": "stdout",
     "output_type": "stream",
     "text": [
      "[[ 9  2]\n",
      " [ 6 26]]\n",
      "Accuracy:  0.813953488372093\n",
      "Bal. acc:  0.8153409090909092\n",
      "f1 score:  0.8666666666666666\n"
     ]
    }
   ],
   "source": [
    "summarize_model(grid_search_cv_svc)"
   ]
  },
  {
   "cell_type": "markdown",
   "metadata": {},
   "source": [
    "## Logistic Regression"
   ]
  },
  {
   "cell_type": "code",
   "execution_count": 32,
   "metadata": {},
   "outputs": [
    {
     "name": "stdout",
     "output_type": "stream",
     "text": [
      "[[ 6  5]\n",
      " [ 3 29]]\n",
      "Accuracy:  0.813953488372093\n",
      "Bal. acc:  0.7258522727272727\n",
      "f1 score:  0.8787878787878787\n"
     ]
    }
   ],
   "source": [
    "from sklearn.linear_model import LogisticRegression\n",
    "\n",
    "lr = LogisticRegression()\n",
    "\n",
    "lr.fit(X_train, y_train)\n",
    "\n",
    "summarize_model(lr)"
   ]
  },
  {
   "cell_type": "code",
   "execution_count": 33,
   "metadata": {},
   "outputs": [
    {
     "data": {
      "text/plain": [
       "dict_keys(['C', 'class_weight', 'dual', 'fit_intercept', 'intercept_scaling', 'l1_ratio', 'max_iter', 'multi_class', 'n_jobs', 'penalty', 'random_state', 'solver', 'tol', 'verbose', 'warm_start'])"
      ]
     },
     "execution_count": 33,
     "metadata": {},
     "output_type": "execute_result"
    }
   ],
   "source": [
    "LogisticRegression().get_params().keys()"
   ]
  },
  {
   "cell_type": "code",
   "execution_count": 34,
   "metadata": {
    "scrolled": true
   },
   "outputs": [
    {
     "name": "stdout",
     "output_type": "stream",
     "text": [
      "Fitting 5 folds for each of 30 candidates, totalling 150 fits\n"
     ]
    },
    {
     "data": {
      "text/plain": [
       "GridSearchCV(cv=StratifiedKFold(n_splits=5, random_state=None, shuffle=False),\n",
       "             estimator=Pipeline(steps=[('preprocessing', None), ('over', None),\n",
       "                                       ('classifier', LogisticRegression())]),\n",
       "             n_jobs=-1,\n",
       "             param_grid={'classifier__C': [0.01, 0.05, 0.1, 0.5, 1],\n",
       "                         'over': [RandomOverSampler(), SMOTE(), None],\n",
       "                         'preprocessing': [StandardScaler(), None]},\n",
       "             scoring='balanced_accuracy', verbose=1)"
      ]
     },
     "execution_count": 34,
     "metadata": {},
     "output_type": "execute_result"
    }
   ],
   "source": [
    "pipe = Pipeline([('preprocessing', None), ('over', None), ('classifier', LogisticRegression())])\n",
    "\n",
    "param_grid = {\n",
    "    'preprocessing': [StandardScaler(), None],\n",
    "    'over': [RandomOverSampler(), SMOTE(), None],\n",
    "    'classifier__C': [0.01, 0.05, 0.1, 0.5, 1],\n",
    "}\n",
    "\n",
    "grid_search_cv_lr = GridSearchCV(pipe, param_grid, cv=kfold, verbose=1, n_jobs=-1, scoring='balanced_accuracy')\n",
    "grid_search_cv_lr.fit(X_train, y_train)"
   ]
  },
  {
   "cell_type": "code",
   "execution_count": 35,
   "metadata": {},
   "outputs": [
    {
     "name": "stdout",
     "output_type": "stream",
     "text": [
      "Pipeline(steps=[('preprocessing', None), ('over', RandomOverSampler()),\n",
      "                ('classifier', LogisticRegression(C=1))])\n"
     ]
    }
   ],
   "source": [
    "print(grid_search_cv_lr.best_estimator_)"
   ]
  },
  {
   "cell_type": "code",
   "execution_count": 36,
   "metadata": {},
   "outputs": [
    {
     "name": "stdout",
     "output_type": "stream",
     "text": [
      "[[ 7  4]\n",
      " [ 6 26]]\n",
      "Accuracy:  0.7674418604651163\n",
      "Bal. acc:  0.7244318181818181\n",
      "f1 score:  0.8387096774193549\n"
     ]
    }
   ],
   "source": [
    "summarize_model(grid_search_cv_lr)"
   ]
  },
  {
   "cell_type": "markdown",
   "metadata": {},
   "source": [
    "## KNN"
   ]
  },
  {
   "cell_type": "code",
   "execution_count": 37,
   "metadata": {},
   "outputs": [
    {
     "name": "stdout",
     "output_type": "stream",
     "text": [
      "[[ 6  5]\n",
      " [ 3 29]]\n",
      "Accuracy:  0.813953488372093\n",
      "Bal. acc:  0.7258522727272727\n",
      "f1 score:  0.8787878787878787\n"
     ]
    }
   ],
   "source": [
    "from sklearn.neighbors import KNeighborsClassifier\n",
    "\n",
    "knn = LogisticRegression()\n",
    "\n",
    "knn.fit(X_train, y_train)\n",
    "\n",
    "summarize_model(knn)"
   ]
  },
  {
   "cell_type": "code",
   "execution_count": 38,
   "metadata": {},
   "outputs": [
    {
     "data": {
      "text/plain": [
       "dict_keys(['C', 'class_weight', 'dual', 'fit_intercept', 'intercept_scaling', 'l1_ratio', 'max_iter', 'multi_class', 'n_jobs', 'penalty', 'random_state', 'solver', 'tol', 'verbose', 'warm_start'])"
      ]
     },
     "execution_count": 38,
     "metadata": {},
     "output_type": "execute_result"
    }
   ],
   "source": [
    "LogisticRegression().get_params().keys()"
   ]
  },
  {
   "cell_type": "code",
   "execution_count": 39,
   "metadata": {},
   "outputs": [
    {
     "name": "stdout",
     "output_type": "stream",
     "text": [
      "Fitting 5 folds for each of 91 candidates, totalling 455 fits\n"
     ]
    },
    {
     "data": {
      "text/plain": [
       "GridSearchCV(cv=StratifiedKFold(n_splits=5, random_state=None, shuffle=False),\n",
       "             estimator=Pipeline(steps=[('preprocessing', None), ('over', None),\n",
       "                                       ('classifier', KNeighborsClassifier())]),\n",
       "             n_jobs=-1,\n",
       "             param_grid={'classifier__leaf_size': [2, 3, 4, 5, 10, 15, 20, 25,\n",
       "                                                   30, 35, 40, 45, 50],\n",
       "                         'classifier__n_neighbors': [3, 4, 5, 10, 15, 20, 25]},\n",
       "             scoring='balanced_accuracy', verbose=1)"
      ]
     },
     "execution_count": 39,
     "metadata": {},
     "output_type": "execute_result"
    }
   ],
   "source": [
    "from sklearn.model_selection import StratifiedKFold\n",
    "from imblearn.pipeline import Pipeline\n",
    "from sklearn.svm import LinearSVC\n",
    "from sklearn.neighbors import KNeighborsClassifier\n",
    "\n",
    "pipe = Pipeline([('preprocessing', None), ('over', None), ('classifier', KNeighborsClassifier())])\n",
    "\n",
    "param_grid = {\n",
    "#     'preprocessing': [StandardScaler(), None],\n",
    "#     'over': [RandomOverSampler(), SMOTE(), None],\n",
    "#     'classifier__p': [1, 2, 3, 4, 5],\n",
    "    'classifier__leaf_size': [2, 3, 4, 5, 10, 15, 20, 25, 30, 35, 40, 45, 50],\n",
    "    'classifier__n_neighbors': [3, 4, 5, 10, 15, 20, 25],\n",
    "}\n",
    "\n",
    "knn = GridSearchCV(pipe, param_grid, cv=kfold, n_jobs=-1, verbose=1, scoring='balanced_accuracy')\n",
    "\n",
    "knn.fit(X_train, y_train)"
   ]
  },
  {
   "cell_type": "code",
   "execution_count": 40,
   "metadata": {},
   "outputs": [
    {
     "name": "stdout",
     "output_type": "stream",
     "text": [
      "Pipeline(steps=[('preprocessing', None), ('over', None),\n",
      "                ('classifier',\n",
      "                 KNeighborsClassifier(leaf_size=2, n_neighbors=15))])\n"
     ]
    }
   ],
   "source": [
    "print(knn.best_estimator_)"
   ]
  },
  {
   "cell_type": "code",
   "execution_count": 41,
   "metadata": {},
   "outputs": [
    {
     "name": "stdout",
     "output_type": "stream",
     "text": [
      "[[ 7  4]\n",
      " [ 4 28]]\n",
      "Accuracy:  0.813953488372093\n",
      "Bal. acc:  0.7556818181818181\n",
      "f1 score:  0.875\n"
     ]
    }
   ],
   "source": [
    "summarize_model(knn)"
   ]
  },
  {
   "cell_type": "markdown",
   "metadata": {},
   "source": [
    "## Podsumowanie"
   ]
  },
  {
   "cell_type": "code",
   "execution_count": 42,
   "metadata": {},
   "outputs": [
    {
     "data": {
      "text/plain": [
       "<AxesSubplot:>"
      ]
     },
     "execution_count": 42,
     "metadata": {},
     "output_type": "execute_result"
    },
    {
     "data": {
      "image/png": "[encoded data removed]",
      "text/plain": [
       "<Figure size 720x720 with 1 Axes>"
      ]
     },
     "metadata": {
      "needs_background": "light"
     },
     "output_type": "display_data"
    }
   ],
   "source": [
    "import pandas as pd\n",
    "import matplotlib.pyplot as plt\n",
    "\n",
    "def get_acc(model):\n",
    "    y_pred = model.predict(X_test)\n",
    "    return accuracy_score(y_test, y_pred)\n",
    "\n",
    "def get_b_acc(model):\n",
    "    y_pred = model.predict(X_test)\n",
    "    return balanced_accuracy_score(y_test, y_pred)\n",
    "\n",
    "\n",
    "def get_f1(model):\n",
    "    y_pred = model.predict(X_test)\n",
    "    return f1_score(y_test, y_pred)\n",
    "                \n",
    "\n",
    "models = [\n",
    "    grid_search_cv_dtree, \n",
    "    grid_search_cv_rfc,\n",
    "    grid_search_cv_svc,\n",
    "    grid_search_cv_lr,\n",
    "    knn,    \n",
    "]\n",
    "    \n",
    "acc = list(map(get_acc, models))\n",
    "bal_acc = list(map(get_b_acc, models))\n",
    "f1 = list(map(get_f1, models))\n",
    "index = [\"DecisionTree\", \"RandomForest\", \"SVM\",  \"LogisticRegression\", \"KNN\"]\n",
    "\n",
    "df1 = pd.DataFrame({'accuracy': acc, 'balanced_accuracy': bal_acc, 'f1': f1}, index=index)\n",
    "\n",
    "df1.plot.bar(rot=0, figsize=(15,15))"
   ]
  },
  {
   "cell_type": "markdown",
   "metadata": {},
   "source": [
    "# Sieć neuronowa"
   ]
  },
  {
   "cell_type": "code",
   "execution_count": 43,
   "metadata": {},
   "outputs": [
    {
     "name": "stdout",
     "output_type": "stream",
     "text": [
      "2.5.0\n",
      "2.5.0\n"
     ]
    }
   ],
   "source": [
    "import tensorflow as tf\n",
    "from tensorflow import keras\n",
    "\n",
    "print(tf.__version__)\n",
    "print(keras.__version__)"
   ]
  },
  {
   "cell_type": "code",
   "execution_count": 44,
   "metadata": {},
   "outputs": [],
   "source": [
    "from sklearn import model_selection\n",
    "from imblearn.over_sampling import RandomOverSampler \n",
    "\n",
    "X = data.drop('status', axis=1)\n",
    "y = data.status\n",
    "\n",
    "# Split into: Train, Test, Valid\n",
    "X_train, X_test, y_train, y_test = model_selection.train_test_split(X, y, test_size=0.2)\n",
    "X_train, X_val, y_train, y_val = model_selection.train_test_split(X_train, y_train, test_size=0.2)"
   ]
  },
  {
   "cell_type": "code",
   "execution_count": 45,
   "metadata": {},
   "outputs": [],
   "source": [
    "scaler = StandardScaler()\n",
    "X_train = scaler.fit_transform(X_train)\n",
    "X_test = scaler.fit_transform(X_test)\n",
    "X_val = scaler.fit_transform(X_val)"
   ]
  },
  {
   "cell_type": "code",
   "execution_count": 46,
   "metadata": {},
   "outputs": [],
   "source": [
    "over = RandomOverSampler()\n",
    "X_res, y_res = over.fit_resample(X_train, y_train)\n",
    "# X_res = X_train\n",
    "# y_res = y_train"
   ]
  },
  {
   "cell_type": "code",
   "execution_count": 47,
   "metadata": {},
   "outputs": [
    {
     "name": "stdout",
     "output_type": "stream",
     "text": [
      "Model: \"sequential\"\n",
      "_________________________________________________________________\n",
      "Layer (type)                 Output Shape              Param #   \n",
      "=================================================================\n",
      "dense (Dense)                (None, 100)               1600      \n",
      "_________________________________________________________________\n",
      "batch_normalization (BatchNo (None, 100)               400       \n",
      "_________________________________________________________________\n",
      "activation (Activation)      (None, 100)               0         \n",
      "_________________________________________________________________\n",
      "dense_1 (Dense)              (None, 50)                5000      \n",
      "_________________________________________________________________\n",
      "batch_normalization_1 (Batch (None, 50)                200       \n",
      "_________________________________________________________________\n",
      "activation_1 (Activation)    (None, 50)                0         \n",
      "_________________________________________________________________\n",
      "dense_2 (Dense)              (None, 10)                500       \n",
      "_________________________________________________________________\n",
      "batch_normalization_2 (Batch (None, 10)                40        \n",
      "_________________________________________________________________\n",
      "activation_2 (Activation)    (None, 10)                0         \n",
      "_________________________________________________________________\n",
      "dense_3 (Dense)              (None, 1)                 11        \n",
      "=================================================================\n",
      "Total params: 7,751\n",
      "Trainable params: 7,431\n",
      "Non-trainable params: 320\n",
      "_________________________________________________________________\n"
     ]
    }
   ],
   "source": [
    "from keras.models import Sequential\n",
    "from keras.layers import Dense\n",
    "from keras.layers import BatchNormalization\n",
    "from keras.layers import Activation\n",
    "from keras.layers import Dropout\n",
    "\n",
    "from keras.callbacks import History\n",
    "\n",
    "# history = History()\n",
    "# model = Sequential()\n",
    "# model.add(Dense(100, use_bias=False, activation=\"elu\", input_shape=(X_res.shape[1],)))\n",
    "# model.add(BatchNormalization())\n",
    "# model.add(Activation(\"elu\"))\n",
    "# model.add(Dropout(0.1))\n",
    "# model.add(Dense(50, use_bias=False))\n",
    "# model.add(BatchNormalization())\n",
    "# model.add(Activation(\"elu\"))\n",
    "# model.add(Dropout(0.1))\n",
    "# model.add(Dense(10, use_bias=False))\n",
    "# model.add(BatchNormalization())\n",
    "# model.add(Activation(\"elu\"))\n",
    "# model.add(Dropout(0.1))\n",
    "# model.add(Dense(1, activation=\"sigmoid\"))\n",
    "# model.summary()\n",
    "\n",
    "history = History()\n",
    "model = Sequential()\n",
    "model.add(Dense(100, use_bias=False, activation=\"elu\", input_shape=(X_res.shape[1],)))\n",
    "model.add(BatchNormalization())\n",
    "model.add(Activation(\"elu\"))\n",
    "model.add(Dense(50, use_bias=False))\n",
    "model.add(BatchNormalization())\n",
    "model.add(Activation(\"elu\"))\n",
    "model.add(Dense(10, use_bias=False))\n",
    "model.add(BatchNormalization())\n",
    "model.add(Activation(\"elu\"))\n",
    "model.add(Dense(1, activation=\"sigmoid\"))\n",
    "model.summary()\n",
    "\n",
    "# history = History()\n",
    "# model = Sequential()\n",
    "# model.add(Dense(100, activation=\"relu\", input_shape=(X_train.shape[1],)))\n",
    "# model.add(Dense(50,activation=\"relu\"))\n",
    "# model.add(Dense(10,activation=\"relu\"))\n",
    "# model.add(Dense(1,activation=\"sigmoid\"))\n",
    "# model.summary()"
   ]
  },
  {
   "cell_type": "code",
   "execution_count": 48,
   "metadata": {},
   "outputs": [],
   "source": [
    "model.compile(loss='binary_crossentropy', optimizer='Adam', metrics=['accuracy'])"
   ]
  },
  {
   "cell_type": "code",
   "execution_count": 49,
   "metadata": {
    "scrolled": true
   },
   "outputs": [
    {
     "name": "stdout",
     "output_type": "stream",
     "text": [
      "Epoch 1/100\n",
      "7/7 [==============================] - 16s 77ms/step - loss: 0.6513 - accuracy: 0.5916 - val_loss: 0.5161 - val_accuracy: 0.7429\n",
      "Epoch 2/100\n",
      "7/7 [==============================] - 0s 5ms/step - loss: 0.3934 - accuracy: 0.8192 - val_loss: 0.4677 - val_accuracy: 0.7143\n",
      "Epoch 3/100\n",
      "7/7 [==============================] - 0s 5ms/step - loss: 0.3238 - accuracy: 0.8572 - val_loss: 0.4411 - val_accuracy: 0.7143\n",
      "Epoch 4/100\n",
      "7/7 [==============================] - 0s 5ms/step - loss: 0.2869 - accuracy: 0.8775 - val_loss: 0.4255 - val_accuracy: 0.7429\n",
      "Epoch 5/100\n",
      "7/7 [==============================] - 0s 5ms/step - loss: 0.2573 - accuracy: 0.9073 - val_loss: 0.4167 - val_accuracy: 0.7429\n",
      "Epoch 6/100\n",
      "7/7 [==============================] - 0s 5ms/step - loss: 0.2447 - accuracy: 0.8966 - val_loss: 0.4036 - val_accuracy: 0.7429\n",
      "Epoch 7/100\n",
      "7/7 [==============================] - 0s 5ms/step - loss: 0.2821 - accuracy: 0.8574 - val_loss: 0.4048 - val_accuracy: 0.7429\n",
      "Epoch 8/100\n",
      "7/7 [==============================] - 0s 5ms/step - loss: 0.2704 - accuracy: 0.9148 - val_loss: 0.4067 - val_accuracy: 0.7429\n",
      "Epoch 9/100\n",
      "7/7 [==============================] - 0s 4ms/step - loss: 0.2297 - accuracy: 0.9157 - val_loss: 0.3933 - val_accuracy: 0.7429\n",
      "Epoch 10/100\n",
      "7/7 [==============================] - 0s 4ms/step - loss: 0.2162 - accuracy: 0.9306 - val_loss: 0.3873 - val_accuracy: 0.7429\n",
      "Epoch 11/100\n",
      "7/7 [==============================] - 0s 4ms/step - loss: 0.2181 - accuracy: 0.9150 - val_loss: 0.3822 - val_accuracy: 0.7429\n",
      "Epoch 12/100\n",
      "7/7 [==============================] - 0s 4ms/step - loss: 0.1817 - accuracy: 0.9485 - val_loss: 0.3835 - val_accuracy: 0.7429\n",
      "Epoch 13/100\n",
      "7/7 [==============================] - 0s 4ms/step - loss: 0.1860 - accuracy: 0.9459 - val_loss: 0.3787 - val_accuracy: 0.7429\n",
      "Epoch 14/100\n",
      "7/7 [==============================] - 0s 4ms/step - loss: 0.2361 - accuracy: 0.8932 - val_loss: 0.3819 - val_accuracy: 0.7429\n",
      "Epoch 15/100\n",
      "7/7 [==============================] - 0s 4ms/step - loss: 0.1895 - accuracy: 0.9099 - val_loss: 0.3763 - val_accuracy: 0.7714\n",
      "Epoch 16/100\n",
      "7/7 [==============================] - 0s 4ms/step - loss: 0.1700 - accuracy: 0.9307 - val_loss: 0.3779 - val_accuracy: 0.7714\n",
      "Epoch 17/100\n",
      "7/7 [==============================] - 0s 4ms/step - loss: 0.1624 - accuracy: 0.9524 - val_loss: 0.3665 - val_accuracy: 0.8000\n",
      "Epoch 18/100\n",
      "7/7 [==============================] - 0s 4ms/step - loss: 0.1577 - accuracy: 0.9461 - val_loss: 0.3576 - val_accuracy: 0.8000\n",
      "Epoch 19/100\n",
      "7/7 [==============================] - 0s 4ms/step - loss: 0.1757 - accuracy: 0.9447 - val_loss: 0.3571 - val_accuracy: 0.8000\n",
      "Epoch 20/100\n",
      "7/7 [==============================] - 0s 4ms/step - loss: 0.1594 - accuracy: 0.9484 - val_loss: 0.3553 - val_accuracy: 0.8000\n",
      "Epoch 21/100\n",
      "7/7 [==============================] - 0s 4ms/step - loss: 0.1779 - accuracy: 0.9400 - val_loss: 0.3474 - val_accuracy: 0.8000\n",
      "Epoch 22/100\n",
      "7/7 [==============================] - 0s 4ms/step - loss: 0.1578 - accuracy: 0.9614 - val_loss: 0.3474 - val_accuracy: 0.8000\n",
      "Epoch 23/100\n",
      "7/7 [==============================] - 0s 4ms/step - loss: 0.1692 - accuracy: 0.9532 - val_loss: 0.3479 - val_accuracy: 0.8286\n",
      "Epoch 24/100\n",
      "7/7 [==============================] - 0s 4ms/step - loss: 0.1782 - accuracy: 0.9380 - val_loss: 0.3468 - val_accuracy: 0.8286\n",
      "Epoch 25/100\n",
      "7/7 [==============================] - 0s 4ms/step - loss: 0.1633 - accuracy: 0.9566 - val_loss: 0.3481 - val_accuracy: 0.8286\n",
      "Epoch 26/100\n",
      "7/7 [==============================] - 0s 4ms/step - loss: 0.1556 - accuracy: 0.9686 - val_loss: 0.3503 - val_accuracy: 0.8000\n",
      "Epoch 27/100\n",
      "7/7 [==============================] - 0s 4ms/step - loss: 0.1693 - accuracy: 0.9180 - val_loss: 0.3465 - val_accuracy: 0.8000\n",
      "Epoch 28/100\n",
      "7/7 [==============================] - 0s 4ms/step - loss: 0.1707 - accuracy: 0.9222 - val_loss: 0.3383 - val_accuracy: 0.8286\n",
      "Epoch 29/100\n",
      "7/7 [==============================] - 0s 4ms/step - loss: 0.1502 - accuracy: 0.9464 - val_loss: 0.3332 - val_accuracy: 0.8286\n",
      "Epoch 30/100\n",
      "7/7 [==============================] - 0s 4ms/step - loss: 0.1424 - accuracy: 0.9625 - val_loss: 0.3277 - val_accuracy: 0.8571\n",
      "Epoch 31/100\n",
      "7/7 [==============================] - 0s 4ms/step - loss: 0.1239 - accuracy: 0.9719 - val_loss: 0.3238 - val_accuracy: 0.8286\n",
      "Epoch 32/100\n",
      "7/7 [==============================] - 0s 4ms/step - loss: 0.1364 - accuracy: 0.9727 - val_loss: 0.3339 - val_accuracy: 0.8286\n",
      "Epoch 33/100\n",
      "7/7 [==============================] - 0s 4ms/step - loss: 0.1559 - accuracy: 0.9709 - val_loss: 0.3371 - val_accuracy: 0.8286\n",
      "Epoch 34/100\n",
      "7/7 [==============================] - 0s 4ms/step - loss: 0.1666 - accuracy: 0.9298 - val_loss: 0.3369 - val_accuracy: 0.8571\n",
      "Epoch 35/100\n",
      "7/7 [==============================] - 0s 4ms/step - loss: 0.1320 - accuracy: 0.9672 - val_loss: 0.3371 - val_accuracy: 0.8571\n",
      "Epoch 36/100\n",
      "7/7 [==============================] - 0s 4ms/step - loss: 0.1447 - accuracy: 0.9551 - val_loss: 0.3378 - val_accuracy: 0.8571\n",
      "Epoch 37/100\n",
      "7/7 [==============================] - 0s 4ms/step - loss: 0.1317 - accuracy: 0.9681 - val_loss: 0.3392 - val_accuracy: 0.8571\n",
      "Epoch 38/100\n",
      "7/7 [==============================] - 0s 4ms/step - loss: 0.1431 - accuracy: 0.9491 - val_loss: 0.3362 - val_accuracy: 0.8571\n",
      "Epoch 39/100\n",
      "7/7 [==============================] - 0s 4ms/step - loss: 0.1077 - accuracy: 0.9832 - val_loss: 0.3279 - val_accuracy: 0.8571\n",
      "Epoch 40/100\n",
      "7/7 [==============================] - 0s 4ms/step - loss: 0.1349 - accuracy: 0.9685 - val_loss: 0.3324 - val_accuracy: 0.8571\n",
      "Epoch 41/100\n",
      "7/7 [==============================] - 0s 4ms/step - loss: 0.1601 - accuracy: 0.9598 - val_loss: 0.3451 - val_accuracy: 0.8571\n",
      "Epoch 42/100\n",
      "7/7 [==============================] - 0s 4ms/step - loss: 0.1094 - accuracy: 0.9775 - val_loss: 0.3327 - val_accuracy: 0.8571\n",
      "Epoch 43/100\n",
      "7/7 [==============================] - 0s 4ms/step - loss: 0.1321 - accuracy: 0.9710 - val_loss: 0.3253 - val_accuracy: 0.8571\n",
      "Epoch 44/100\n",
      "7/7 [==============================] - 0s 4ms/step - loss: 0.1088 - accuracy: 0.9811 - val_loss: 0.3264 - val_accuracy: 0.8571\n",
      "Epoch 45/100\n",
      "7/7 [==============================] - 0s 4ms/step - loss: 0.1306 - accuracy: 0.9698 - val_loss: 0.3398 - val_accuracy: 0.8571\n",
      "Epoch 46/100\n",
      "7/7 [==============================] - 0s 4ms/step - loss: 0.1553 - accuracy: 0.9425 - val_loss: 0.3383 - val_accuracy: 0.8571\n",
      "Epoch 47/100\n",
      "7/7 [==============================] - 0s 4ms/step - loss: 0.1257 - accuracy: 0.9698 - val_loss: 0.3335 - val_accuracy: 0.8571\n",
      "Epoch 48/100\n",
      "7/7 [==============================] - 0s 4ms/step - loss: 0.1113 - accuracy: 0.9768 - val_loss: 0.3395 - val_accuracy: 0.8571\n",
      "Epoch 49/100\n",
      "7/7 [==============================] - 0s 4ms/step - loss: 0.1208 - accuracy: 0.9580 - val_loss: 0.3389 - val_accuracy: 0.8571\n",
      "Epoch 50/100\n",
      "7/7 [==============================] - 0s 4ms/step - loss: 0.1177 - accuracy: 0.9684 - val_loss: 0.3291 - val_accuracy: 0.8571\n",
      "Epoch 51/100\n",
      "7/7 [==============================] - 0s 4ms/step - loss: 0.1267 - accuracy: 0.9518 - val_loss: 0.3253 - val_accuracy: 0.8571\n",
      "Epoch 52/100\n",
      "7/7 [==============================] - 0s 4ms/step - loss: 0.1256 - accuracy: 0.9546 - val_loss: 0.3319 - val_accuracy: 0.8571\n",
      "Epoch 53/100\n",
      "7/7 [==============================] - 0s 4ms/step - loss: 0.1042 - accuracy: 0.9797 - val_loss: 0.3407 - val_accuracy: 0.8571\n",
      "Epoch 54/100\n",
      "7/7 [==============================] - 0s 4ms/step - loss: 0.1073 - accuracy: 0.9697 - val_loss: 0.3320 - val_accuracy: 0.8571\n",
      "Epoch 55/100\n",
      "7/7 [==============================] - 0s 4ms/step - loss: 0.1071 - accuracy: 0.9505 - val_loss: 0.3338 - val_accuracy: 0.8571\n",
      "Epoch 56/100\n",
      "7/7 [==============================] - 0s 4ms/step - loss: 0.1164 - accuracy: 0.9678 - val_loss: 0.3408 - val_accuracy: 0.8571\n",
      "Epoch 57/100\n",
      "7/7 [==============================] - 0s 4ms/step - loss: 0.1520 - accuracy: 0.9597 - val_loss: 0.3318 - val_accuracy: 0.8571\n",
      "Epoch 58/100\n",
      "7/7 [==============================] - 0s 4ms/step - loss: 0.1373 - accuracy: 0.9679 - val_loss: 0.3235 - val_accuracy: 0.8571\n",
      "Epoch 59/100\n"
     ]
    },
    {
     "name": "stdout",
     "output_type": "stream",
     "text": [
      "7/7 [==============================] - 0s 4ms/step - loss: 0.1192 - accuracy: 0.9685 - val_loss: 0.3226 - val_accuracy: 0.8571\n",
      "Epoch 60/100\n",
      "7/7 [==============================] - 0s 4ms/step - loss: 0.1147 - accuracy: 0.9703 - val_loss: 0.3158 - val_accuracy: 0.8571\n",
      "Epoch 61/100\n",
      "7/7 [==============================] - 0s 4ms/step - loss: 0.1255 - accuracy: 0.9698 - val_loss: 0.3063 - val_accuracy: 0.8857\n",
      "Epoch 62/100\n",
      "7/7 [==============================] - 0s 4ms/step - loss: 0.1105 - accuracy: 0.9654 - val_loss: 0.3067 - val_accuracy: 0.8571\n",
      "Epoch 63/100\n",
      "7/7 [==============================] - 0s 5ms/step - loss: 0.1023 - accuracy: 0.9711 - val_loss: 0.3126 - val_accuracy: 0.8571\n",
      "Epoch 64/100\n",
      "7/7 [==============================] - 0s 4ms/step - loss: 0.0981 - accuracy: 0.9746 - val_loss: 0.3180 - val_accuracy: 0.8571\n",
      "Epoch 65/100\n",
      "7/7 [==============================] - 0s 4ms/step - loss: 0.1260 - accuracy: 0.9441 - val_loss: 0.3199 - val_accuracy: 0.8571\n",
      "Epoch 66/100\n",
      "7/7 [==============================] - 0s 4ms/step - loss: 0.1094 - accuracy: 0.9653 - val_loss: 0.3170 - val_accuracy: 0.8857\n",
      "Epoch 67/100\n",
      "7/7 [==============================] - 0s 4ms/step - loss: 0.1310 - accuracy: 0.9577 - val_loss: 0.3432 - val_accuracy: 0.8857\n",
      "Epoch 68/100\n",
      "7/7 [==============================] - 0s 4ms/step - loss: 0.1322 - accuracy: 0.9613 - val_loss: 0.3697 - val_accuracy: 0.8286\n",
      "Epoch 69/100\n",
      "7/7 [==============================] - 0s 4ms/step - loss: 0.1304 - accuracy: 0.9764 - val_loss: 0.3816 - val_accuracy: 0.8286\n",
      "Epoch 70/100\n",
      "7/7 [==============================] - 0s 4ms/step - loss: 0.1346 - accuracy: 0.9594 - val_loss: 0.3630 - val_accuracy: 0.8286\n",
      "Epoch 71/100\n",
      "7/7 [==============================] - 0s 4ms/step - loss: 0.1321 - accuracy: 0.9503 - val_loss: 0.3385 - val_accuracy: 0.9143\n",
      "Epoch 72/100\n",
      "7/7 [==============================] - 0s 4ms/step - loss: 0.1183 - accuracy: 0.9646 - val_loss: 0.3470 - val_accuracy: 0.8571\n",
      "Epoch 73/100\n",
      "7/7 [==============================] - 0s 4ms/step - loss: 0.1288 - accuracy: 0.9681 - val_loss: 0.3658 - val_accuracy: 0.8286\n",
      "Epoch 74/100\n",
      "7/7 [==============================] - 0s 4ms/step - loss: 0.1409 - accuracy: 0.9535 - val_loss: 0.3503 - val_accuracy: 0.8286\n",
      "Epoch 75/100\n",
      "7/7 [==============================] - 0s 4ms/step - loss: 0.0939 - accuracy: 0.9905 - val_loss: 0.3351 - val_accuracy: 0.8286\n",
      "Epoch 76/100\n",
      "7/7 [==============================] - 0s 4ms/step - loss: 0.1027 - accuracy: 0.9678 - val_loss: 0.3322 - val_accuracy: 0.8286\n",
      "Epoch 77/100\n",
      "7/7 [==============================] - 0s 4ms/step - loss: 0.0987 - accuracy: 0.9755 - val_loss: 0.3447 - val_accuracy: 0.8286\n",
      "Epoch 78/100\n",
      "7/7 [==============================] - 0s 4ms/step - loss: 0.1140 - accuracy: 0.9664 - val_loss: 0.3468 - val_accuracy: 0.8286\n",
      "Epoch 79/100\n",
      "7/7 [==============================] - 0s 4ms/step - loss: 0.1160 - accuracy: 0.9433 - val_loss: 0.3421 - val_accuracy: 0.8000\n",
      "Epoch 80/100\n",
      "7/7 [==============================] - 0s 4ms/step - loss: 0.0873 - accuracy: 0.9842 - val_loss: 0.3507 - val_accuracy: 0.8000\n",
      "Epoch 81/100\n",
      "7/7 [==============================] - 0s 4ms/step - loss: 0.0979 - accuracy: 0.9768 - val_loss: 0.3555 - val_accuracy: 0.8571\n",
      "Epoch 82/100\n",
      "7/7 [==============================] - 0s 4ms/step - loss: 0.0979 - accuracy: 0.9740 - val_loss: 0.3586 - val_accuracy: 0.8571\n",
      "Epoch 83/100\n",
      "7/7 [==============================] - 0s 4ms/step - loss: 0.1047 - accuracy: 0.9696 - val_loss: 0.3647 - val_accuracy: 0.8571\n",
      "Epoch 84/100\n",
      "7/7 [==============================] - 0s 4ms/step - loss: 0.0948 - accuracy: 0.9858 - val_loss: 0.3981 - val_accuracy: 0.8286\n",
      "Epoch 85/100\n",
      "7/7 [==============================] - 0s 4ms/step - loss: 0.1637 - accuracy: 0.9418 - val_loss: 0.3646 - val_accuracy: 0.8571\n",
      "Epoch 86/100\n",
      "7/7 [==============================] - 0s 4ms/step - loss: 0.1085 - accuracy: 0.9794 - val_loss: 0.3558 - val_accuracy: 0.8286\n",
      "Epoch 87/100\n",
      "7/7 [==============================] - 0s 4ms/step - loss: 0.1110 - accuracy: 0.9546 - val_loss: 0.3553 - val_accuracy: 0.8286\n",
      "Epoch 88/100\n",
      "7/7 [==============================] - 0s 4ms/step - loss: 0.1013 - accuracy: 0.9698 - val_loss: 0.3504 - val_accuracy: 0.8286\n",
      "Epoch 89/100\n",
      "7/7 [==============================] - 0s 4ms/step - loss: 0.1131 - accuracy: 0.9607 - val_loss: 0.3502 - val_accuracy: 0.8286\n",
      "Epoch 90/100\n",
      "7/7 [==============================] - 0s 4ms/step - loss: 0.1332 - accuracy: 0.9585 - val_loss: 0.3580 - val_accuracy: 0.8286\n",
      "Epoch 91/100\n",
      "7/7 [==============================] - 0s 4ms/step - loss: 0.1030 - accuracy: 0.9695 - val_loss: 0.3665 - val_accuracy: 0.8286\n",
      "Epoch 92/100\n",
      "7/7 [==============================] - 0s 4ms/step - loss: 0.0954 - accuracy: 0.9713 - val_loss: 0.3658 - val_accuracy: 0.8286\n",
      "Epoch 93/100\n",
      "7/7 [==============================] - 0s 4ms/step - loss: 0.1081 - accuracy: 0.9744 - val_loss: 0.3620 - val_accuracy: 0.8286\n",
      "Epoch 94/100\n",
      "7/7 [==============================] - 0s 4ms/step - loss: 0.1206 - accuracy: 0.9572 - val_loss: 0.3628 - val_accuracy: 0.8286\n",
      "Epoch 95/100\n",
      "7/7 [==============================] - 0s 4ms/step - loss: 0.1419 - accuracy: 0.9347 - val_loss: 0.3783 - val_accuracy: 0.8286\n",
      "Epoch 96/100\n",
      "7/7 [==============================] - 0s 5ms/step - loss: 0.1027 - accuracy: 0.9681 - val_loss: 0.3827 - val_accuracy: 0.8286\n",
      "Epoch 97/100\n",
      "7/7 [==============================] - 0s 4ms/step - loss: 0.1224 - accuracy: 0.9745 - val_loss: 0.3732 - val_accuracy: 0.8286\n",
      "Epoch 98/100\n",
      "7/7 [==============================] - 0s 4ms/step - loss: 0.1292 - accuracy: 0.9618 - val_loss: 0.3512 - val_accuracy: 0.8286\n",
      "Epoch 99/100\n",
      "7/7 [==============================] - 0s 4ms/step - loss: 0.1087 - accuracy: 0.9759 - val_loss: 0.3573 - val_accuracy: 0.8286\n",
      "Epoch 100/100\n",
      "7/7 [==============================] - 0s 4ms/step - loss: 0.1013 - accuracy: 0.9688 - val_loss: 0.3636 - val_accuracy: 0.8286\n"
     ]
    }
   ],
   "source": [
    "history = model.fit(X_res, y_res, validation_data=(X_val, y_val), batch_size=32, epochs=100)"
   ]
  },
  {
   "cell_type": "code",
   "execution_count": 50,
   "metadata": {},
   "outputs": [
    {
     "data": {
      "image/png": "[encoded data removed]",
      "text/plain": [
       "<Figure size 432x288 with 1 Axes>"
      ]
     },
     "metadata": {
      "needs_background": "light"
     },
     "output_type": "display_data"
    }
   ],
   "source": [
    "plt.plot(history.history['accuracy'], label = \"accuracy\")\n",
    "plt.plot(history.history['val_accuracy'], label = \"val_accuracy\")\n",
    "plt.plot(history.history['loss'], label = \"loss\")\n",
    "plt.plot(history.history['val_loss'], label = \"val_loss\")\n",
    "\n",
    "plt.legend()\n",
    "plt.show()"
   ]
  },
  {
   "cell_type": "code",
   "execution_count": 51,
   "metadata": {},
   "outputs": [
    {
     "name": "stdout",
     "output_type": "stream",
     "text": [
      "[[10  6]\n",
      " [ 5 22]]\n",
      "Accuracy:  0.7441860465116279\n",
      "Bal. acc:  0.7199074074074074\n",
      "f1 score:  0.7999999999999999\n"
     ]
    }
   ],
   "source": [
    "y_pred = model.predict_classes(X_test)\n",
    "\n",
    "print(confusion_matrix(y_test, y_pred))\n",
    "print(\"Accuracy: \", accuracy_score(y_test, y_pred))\n",
    "print(\"Bal. acc: \", balanced_accuracy_score(y_test, y_pred))\n",
    "print(\"f1 score: \", f1_score(y_test, y_pred))"
   ]
  },
  {
   "cell_type": "code",
   "execution_count": 52,
   "metadata": {},
   "outputs": [
    {
     "name": "stdout",
     "output_type": "stream",
     "text": [
      "              precision    recall  f1-score   support\n",
      "\n",
      "           0       0.67      0.62      0.65        16\n",
      "           1       0.79      0.81      0.80        27\n",
      "\n",
      "    accuracy                           0.74        43\n",
      "   macro avg       0.73      0.72      0.72        43\n",
      "weighted avg       0.74      0.74      0.74        43\n",
      "\n"
     ]
    }
   ],
   "source": [
    "from sklearn.metrics import classification_report\n",
    "print(classification_report(y_test, y_pred))"
   ]
  },
  {
   "cell_type": "code",
   "execution_count": 53,
   "metadata": {},
   "outputs": [
    {
     "data": {
      "text/plain": [
       "0.5"
      ]
     },
     "execution_count": 53,
     "metadata": {},
     "output_type": "execute_result"
    }
   ],
   "source": [
    "y_res.sum() / y_res.shape[0]\n",
    "# proporcja pracujących do niepracujących w Train"
   ]
  },
  {
   "cell_type": "code",
   "execution_count": 54,
   "metadata": {},
   "outputs": [
    {
     "data": {
      "text/plain": [
       "0.627906976744186"
      ]
     },
     "execution_count": 54,
     "metadata": {},
     "output_type": "execute_result"
    }
   ],
   "source": [
    "y_test.sum() / y_test.shape[0]\n",
    "# proporcja pracujących do niepracujących w Test"
   ]
  },
  {
   "cell_type": "markdown",
   "metadata": {},
   "source": [
    "# Obserwacje\n",
    "\n",
    "Sieć neuronowa osiąga wyniki prawie tak dobre, jak proste metody, z dobrze dobranymi parametrami.\n",
    "\n",
    "Obiektywnie, udało się zadowalająco przewidywać wyniki. (Jak na tak mały dataset).\n",
    "\n",
    "Wyniki sieci neuronowej różnią się pomiędzy kolejnymi wykonaniami o takich samych parametrach."
   ]
  },
  {
   "cell_type": "markdown",
   "metadata": {},
   "source": [
    "# Porównanie wyników"
   ]
  },
  {
   "cell_type": "code",
   "execution_count": 56,
   "metadata": {},
   "outputs": [
    {
     "data": {
      "text/plain": [
       "<AxesSubplot:>"
      ]
     },
     "execution_count": 56,
     "metadata": {},
     "output_type": "execute_result"
    },
    {
     "data": {
      "image/png": "[encoded data removed]",
      "text/plain": [
       "<Figure size 1080x1080 with 1 Axes>"
      ]
     },
     "metadata": {
      "needs_background": "light"
     },
     "output_type": "display_data"
    }
   ],
   "source": [
    "acc = [accuracy_score(y_test, y_pred)]\n",
    "bal_acc = [balanced_accuracy_score(y_test, y_pred)]\n",
    "f1 = [f1_score(y_test, y_pred)]\n",
    "index = [\"Sieć\"]\n",
    "\n",
    "df2 = pd.DataFrame({'accuracy': acc, 'balanced_accuracy': bal_acc, 'f1': f1}, index=index)\n",
    "df1.append(df2).plot.bar(rot=0, figsize=(15,15))"
   ]
  }
 ],
 "metadata": {
  "kernelspec": {
   "display_name": "Python 3",
   "language": "python",
   "name": "python3"
  },
  "language_info": {
   "codemirror_mode": {
    "name": "ipython",
    "version": 3
   },
   "file_extension": ".py",
   "mimetype": "text/x-python",
   "name": "python",
   "nbconvert_exporter": "python",
   "pygments_lexer": "ipython3",
   "version": "3.8.2"
  }
 },
 "nbformat": 4,
 "nbformat_minor": 1
}
